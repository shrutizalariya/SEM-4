{
 "cells": [
  {
   "cell_type": "markdown",
   "metadata": {},
   "source": [
    "\n",
    "<a href='https://www.darshan.ac.in/'> <img src='https://www.darshan.ac.in/Content/media/DU_Logo.svg' width=\"250\" height=\"300\"/></a>\n",
    "<pre>\n",
    "<center><b><h1>Python Programming - 2301CS404</b></center>\n",
    "<center><b><h1>Lab - 5</b></center>\n",
    "<center><b><h1>Shruti | 23010101311 | 23-12-2024</b></center> \n",
    "<pre>"
   ]
  },
  {
   "cell_type": "markdown",
   "metadata": {},
   "source": [
    "# List"
   ]
  },
  {
   "cell_type": "markdown",
   "metadata": {},
   "source": [
    "### 01) WAP to find sum of all the elements in a List."
   ]
  },
  {
   "cell_type": "code",
   "execution_count": 4,
   "metadata": {},
   "outputs": [
    {
     "name": "stdout",
     "output_type": "stream",
     "text": [
      "Sum of all elements is = 15\n"
     ]
    }
   ],
   "source": [
    "l1 = [1,2,3,4,5]\n",
    "sum = 0\n",
    "for i in l1:\n",
    "    sum = sum + i\n",
    "print('Sum of all elements is =',sum)"
   ]
  },
  {
   "cell_type": "markdown",
   "metadata": {},
   "source": [
    "### 02) WAP to find largest element in a List."
   ]
  },
  {
   "cell_type": "code",
   "execution_count": 8,
   "metadata": {},
   "outputs": [
    {
     "name": "stdout",
     "output_type": "stream",
     "text": [
      "Maximum number = 15\n"
     ]
    }
   ],
   "source": [
    "l1 = [1,2,3,4,5,10,8,15,2]\n",
    "max = 0\n",
    "for i in l1:\n",
    "    if(i > max):\n",
    "        max = i\n",
    "print('Maximum number =',max)"
   ]
  },
  {
   "cell_type": "markdown",
   "metadata": {},
   "source": [
    "### 03) WAP to find the length of a List."
   ]
  },
  {
   "cell_type": "code",
   "execution_count": 1,
   "metadata": {},
   "outputs": [
    {
     "name": "stdout",
     "output_type": "stream",
     "text": [
      "Length of the list = 9\n"
     ]
    }
   ],
   "source": [
    "l1 = [1,2,3,4,5,10,8,15,2]\n",
    "length = len(l1)\n",
    "print('Length of the list =',length)"
   ]
  },
  {
   "cell_type": "markdown",
   "metadata": {},
   "source": [
    "### 04) WAP to interchange first and last elements in a list."
   ]
  },
  {
   "cell_type": "code",
   "execution_count": 42,
   "metadata": {},
   "outputs": [
    {
     "name": "stdout",
     "output_type": "stream",
     "text": [
      "[10, 2, 3, 4, 5, 10, 8, 15, 2, 1]\n"
     ]
    }
   ],
   "source": [
    "l1 = [1,2,3,4,5,10,8,15,2,10]\n",
    "temp = l1[0]\n",
    "l1[0] = l1[-1]\n",
    "l1[-1] = temp\n",
    "print(l1)"
   ]
  },
  {
   "cell_type": "markdown",
   "metadata": {},
   "source": [
    "### 05) WAP to split the List into two parts and append the first part to the end."
   ]
  },
  {
   "cell_type": "code",
   "execution_count": 82,
   "metadata": {},
   "outputs": [
    {
     "name": "stdout",
     "output_type": "stream",
     "text": [
      "[6, 7, 8, 9, 10, 1, 2, 3, 4, 5]\n"
     ]
    }
   ],
   "source": [
    "li=[1,2,3,4,5,6,7,8,9,10]\n",
    "mid = len(li)//2\n",
    "l1 = li[:mid:]\n",
    "l2 = li[mid::]\n",
    "l = l2 + l1\n",
    "print(l)"
   ]
  },
  {
   "cell_type": "code",
   "execution_count": 121,
   "metadata": {},
   "outputs": [
    {
     "name": "stdout",
     "output_type": "stream",
     "text": [
      "[6, 7, 8, 9, 10, 1, 2, 3, 4, 5]\n"
     ]
    }
   ],
   "source": [
    "li=[1,2,3,4,5,6,7,8,9,10]\n",
    "mid = len(li)//2\n",
    "l1 = li[:mid:]\n",
    "l2 = li[mid::]\n",
    "l2.extend(l1)\n",
    "print(l2)"
   ]
  },
  {
   "cell_type": "markdown",
   "metadata": {},
   "source": [
    "### 06) WAP to interchange the elements on two positions entered by a user."
   ]
  },
  {
   "cell_type": "code",
   "execution_count": 75,
   "metadata": {},
   "outputs": [
    {
     "name": "stdin",
     "output_type": "stream",
     "text": [
      "Enter list elements :  1\n",
      "Enter list elements :  2\n",
      "Enter list elements :  3\n",
      "Enter list elements :  4\n",
      "Enter list elements :  5\n"
     ]
    },
    {
     "name": "stdout",
     "output_type": "stream",
     "text": [
      "Before swapping!\n",
      "[1, 2, 3, 4, 5]\n"
     ]
    },
    {
     "name": "stdin",
     "output_type": "stream",
     "text": [
      "Enter first index : 1\n",
      "Enter second index : 3\n"
     ]
    },
    {
     "name": "stdout",
     "output_type": "stream",
     "text": [
      "After swapping!\n",
      "[1, 4, 3, 2, 5]\n"
     ]
    }
   ],
   "source": [
    "l1 = []\n",
    "for i in range(1,6,1):\n",
    "    l1.append(int(input('Enter list elements : ')))\n",
    "print('Before swapping!')\n",
    "print(l1)\n",
    "\n",
    "a = int(input('Enter first index :'))\n",
    "b = int(input('Enter second index :'))\n",
    "temp = l1[a]\n",
    "l1[a] = l1[b]\n",
    "l1[b] = temp\n",
    "\n",
    "print('After swapping!')\n",
    "print(l1)"
   ]
  },
  {
   "cell_type": "markdown",
   "metadata": {},
   "source": [
    "### 07) WAP to reverse the list entered by user."
   ]
  },
  {
   "cell_type": "code",
   "execution_count": 85,
   "metadata": {},
   "outputs": [
    {
     "name": "stdin",
     "output_type": "stream",
     "text": [
      "Enter list elements :  1\n",
      "Enter list elements :  2\n",
      "Enter list elements :  3\n",
      "Enter list elements :  4\n",
      "Enter list elements :  5\n"
     ]
    },
    {
     "name": "stdout",
     "output_type": "stream",
     "text": [
      "Reverse list!\n",
      "[5, 4, 3, 2, 1]\n"
     ]
    }
   ],
   "source": [
    "l1 = []\n",
    "for i in range(1,6,1):\n",
    "    l1.append(int(input('Enter list elements : ')))\n",
    "    \n",
    "print('Reverse list!')\n",
    "print(l1[::-1])"
   ]
  },
  {
   "cell_type": "markdown",
   "metadata": {},
   "source": [
    "### 08) WAP to print even numbers in a list."
   ]
  },
  {
   "cell_type": "code",
   "execution_count": 87,
   "metadata": {},
   "outputs": [
    {
     "name": "stdin",
     "output_type": "stream",
     "text": [
      "Enter list elements :  1\n",
      "Enter list elements :  23\n",
      "Enter list elements :  5\n",
      "Enter list elements :  44\n",
      "Enter list elements :  22\n"
     ]
    },
    {
     "name": "stdout",
     "output_type": "stream",
     "text": [
      "44\n",
      "22\n"
     ]
    }
   ],
   "source": [
    "l1 = []\n",
    "for i in range(1,6,1):\n",
    "    l1.append(int(input('Enter list elements : ')))\n",
    "    \n",
    "for i in l1:\n",
    "    if i%2==0:\n",
    "        print(i)"
   ]
  },
  {
   "cell_type": "markdown",
   "metadata": {},
   "source": [
    "### 09) WAP to count unique items in a list."
   ]
  },
  {
   "cell_type": "code",
   "execution_count": 106,
   "metadata": {},
   "outputs": [
    {
     "name": "stdout",
     "output_type": "stream",
     "text": [
      "{1, 2, 3, 5, 6, 7}\n",
      "Count of unique items = 6\n"
     ]
    }
   ],
   "source": [
    "l1 = [1,2,3,1,5,6,7]\n",
    "l2 = set(l1)\n",
    "print(l2)\n",
    "count = 0\n",
    "for i in l2:\n",
    "    count += 1\n",
    "print('Count of unique items =',count)"
   ]
  },
  {
   "cell_type": "code",
   "execution_count": 148,
   "metadata": {},
   "outputs": [
    {
     "name": "stdout",
     "output_type": "stream",
     "text": [
      "2\n",
      "3\n",
      "5\n",
      "6\n",
      "7\n",
      "Count of unique items = 5\n"
     ]
    }
   ],
   "source": [
    "l1 = [1,2,3,1,5,6,7]\n",
    "count=0\n",
    "for i in l1:\n",
    "    if l1.count(i)==1:\n",
    "        print(i)\n",
    "        count+=1\n",
    "print('Count of unique items =',count)"
   ]
  },
  {
   "cell_type": "markdown",
   "metadata": {},
   "source": [
    "### 10) WAP to copy a list."
   ]
  },
  {
   "cell_type": "code",
   "execution_count": 112,
   "metadata": {},
   "outputs": [
    {
     "data": {
      "text/plain": [
       "[1, 2, 3, 1, 5, 6, 7, 8]"
      ]
     },
     "execution_count": 112,
     "metadata": {},
     "output_type": "execute_result"
    }
   ],
   "source": [
    "l1 = [1,2,3,1,5,6,7,8]\n",
    "l1.copy()"
   ]
  },
  {
   "cell_type": "markdown",
   "metadata": {},
   "source": [
    "### 11) WAP to print all odd numbers in a given range."
   ]
  },
  {
   "cell_type": "code",
   "execution_count": 118,
   "metadata": {},
   "outputs": [
    {
     "name": "stdin",
     "output_type": "stream",
     "text": [
      "Enter range : 10\n"
     ]
    },
    {
     "name": "stdout",
     "output_type": "stream",
     "text": [
      "[1, 3, 5, 7, 9]\n"
     ]
    }
   ],
   "source": [
    "n = int(input('Enter range :'))\n",
    "l1 = [i for i in range(0,(n+1)) if i%2!=0]\n",
    "print(l1)"
   ]
  },
  {
   "cell_type": "code",
   "execution_count": 124,
   "metadata": {},
   "outputs": [
    {
     "name": "stdin",
     "output_type": "stream",
     "text": [
      "Enter range : 10\n"
     ]
    },
    {
     "name": "stdout",
     "output_type": "stream",
     "text": [
      "[1, 3, 5, 7, 9]\n"
     ]
    }
   ],
   "source": [
    "n = int(input('Enter range :'))\n",
    "l1 = [i for i in range(1,(n+1),2)]\n",
    "print(l1)"
   ]
  },
  {
   "cell_type": "markdown",
   "metadata": {},
   "source": [
    "### 12) WAP to count occurrences of an element in a list."
   ]
  },
  {
   "cell_type": "code",
   "execution_count": 138,
   "metadata": {},
   "outputs": [
    {
     "name": "stdin",
     "output_type": "stream",
     "text": [
      "Enter Element : 3\n"
     ]
    },
    {
     "name": "stdout",
     "output_type": "stream",
     "text": [
      "Occurence of number 3 = 3\n"
     ]
    }
   ],
   "source": [
    "l1 = [1,2,3,3,3,5,6,7,8]\n",
    "n = int(input('Enter Element :'))\n",
    "count = 0\n",
    "for i in l1:\n",
    "    if n==i:\n",
    "        count+=1\n",
    "print('Occurence of number 3 =',count)"
   ]
  },
  {
   "cell_type": "code",
   "execution_count": 140,
   "metadata": {},
   "outputs": [
    {
     "name": "stdin",
     "output_type": "stream",
     "text": [
      "Enter Element : 3\n"
     ]
    },
    {
     "name": "stdout",
     "output_type": "stream",
     "text": [
      "Occurence of number 3 = 3\n"
     ]
    }
   ],
   "source": [
    "l1 = [1,2,3,3,3,5,6,7,8]\n",
    "n = int(input('Enter Element :'))\n",
    "print('Occurence of number 3 =',l1.count(n))"
   ]
  },
  {
   "cell_type": "markdown",
   "metadata": {},
   "source": [
    "### 13) WAP to find second largest number in a list."
   ]
  },
  {
   "cell_type": "code",
   "execution_count": 153,
   "metadata": {},
   "outputs": [
    {
     "name": "stdout",
     "output_type": "stream",
     "text": [
      "Enter list elements!\n"
     ]
    },
    {
     "name": "stdin",
     "output_type": "stream",
     "text": [
      "l1[0] = 1\n",
      "l1[1] = 4\n",
      "l1[2] = 0\n",
      "l1[3] = 20\n",
      "l1[4] = 70\n",
      "l1[5] = 5\n",
      "l1[6] = 3\n",
      "l1[7] = 8\n",
      "l1[8] = 6\n",
      "l1[9] = 4\n"
     ]
    },
    {
     "name": "stdout",
     "output_type": "stream",
     "text": [
      "[70, 20, 8, 6, 5, 4, 3, 1, 0]\n",
      "Second largest number is 20\n"
     ]
    }
   ],
   "source": [
    "l1 = []\n",
    "print('Enter list elements!')\n",
    "for i in range(0,10,1):\n",
    "    l1.append(int(input(f'l1[{i}] =')))\n",
    "    \n",
    "l1 = list(set(l1))\n",
    "l1.sort(reverse=True)\n",
    "print(l1)\n",
    "if len(l1) > 1:\n",
    "    print('Second largest number is',l1[1])\n",
    "else:\n",
    "    print('There is no second largest number.')"
   ]
  },
  {
   "cell_type": "markdown",
   "metadata": {},
   "source": [
    "### 14) WAP to extract elements with frequency greater than K."
   ]
  },
  {
   "cell_type": "code",
   "execution_count": 179,
   "metadata": {},
   "outputs": [
    {
     "name": "stdin",
     "output_type": "stream",
     "text": [
      "Enter frequency:  2\n"
     ]
    },
    {
     "name": "stdout",
     "output_type": "stream",
     "text": [
      "[3, 5, 6]\n"
     ]
    }
   ],
   "source": [
    "l1 = [1, 2, 3, 3, 3, 5, 6, 7, 8, 6, 3, 5, 5, 6]\n",
    "k = int(input('Enter frequency: '))\n",
    "\n",
    "ans = []\n",
    "\n",
    "for i in l1:\n",
    "    count = 0\n",
    "    for j in l1:\n",
    "        if i == j:\n",
    "            count += 1\n",
    "            \n",
    "    if count > k and i not in ans:\n",
    "        ans.append(i)\n",
    "\n",
    "print(ans)"
   ]
  },
  {
   "cell_type": "code",
   "execution_count": 181,
   "metadata": {},
   "outputs": [
    {
     "name": "stdin",
     "output_type": "stream",
     "text": [
      "Enter frequency : 3\n"
     ]
    },
    {
     "name": "stdout",
     "output_type": "stream",
     "text": [
      "[3]\n"
     ]
    }
   ],
   "source": [
    "l1 = [1, 2, 3, 3, 3, 5, 6, 7, 8, 6, 3, 5, 5, 6]\n",
    "k = int(input('Enter frequency :'))\n",
    "f = {}\n",
    "for i in l1:\n",
    "    if i in f:\n",
    "        f[i]+=1\n",
    "    else:\n",
    "        f[i] = 1\n",
    "ans = [i for i,count in f.items() if count > k ]\n",
    "print(ans)"
   ]
  },
  {
   "cell_type": "markdown",
   "metadata": {},
   "source": [
    "### 15) WAP to create a list of squared numbers from 0 to 9 with and without using List Comprehension."
   ]
  },
  {
   "cell_type": "code",
   "execution_count": 37,
   "metadata": {},
   "outputs": [
    {
     "name": "stdout",
     "output_type": "stream",
     "text": [
      "[0, 1, 4, 9, 16, 25, 36, 49, 64, 81]\n"
     ]
    }
   ],
   "source": [
    "#Withou Using Comprehension\n",
    "l1 = []\n",
    "for i in range(0,10):\n",
    "    l1.append(i**2)\n",
    "print(l1)"
   ]
  },
  {
   "cell_type": "code",
   "execution_count": 39,
   "metadata": {},
   "outputs": [
    {
     "name": "stdout",
     "output_type": "stream",
     "text": [
      "[0, 1, 4, 9, 16, 25, 36, 49, 64, 81]\n"
     ]
    }
   ],
   "source": [
    "#With Using Comprehension\n",
    "l1 = [i**2 for i in range(0,10)]\n",
    "print(l1)"
   ]
  },
  {
   "cell_type": "markdown",
   "metadata": {},
   "source": [
    "### 16) WAP to create a new list (fruit whose name starts with 'b') from the list of fruits given by user."
   ]
  },
  {
   "cell_type": "code",
   "execution_count": 64,
   "metadata": {},
   "outputs": [
    {
     "name": "stdout",
     "output_type": "stream",
     "text": [
      "['Banana', 'blueBerry', 'blackBerry', 'Brazil Nut']\n"
     ]
    }
   ],
   "source": [
    "l1 = ['Banana','blueBerry','Apple','Kiwi','blackBerry','Cherry','Brazil Nut','Chickoo']\n",
    "for i in l1:\n",
    "    if i[0]=='B' or i[0]=='b':\n",
    "        l2.append(i)\n",
    "print(l2)"
   ]
  },
  {
   "cell_type": "code",
   "execution_count": 66,
   "metadata": {},
   "outputs": [
    {
     "name": "stdout",
     "output_type": "stream",
     "text": [
      "['Banana', 'BlueBerry', 'BlackBerry', 'Brazil Nut']\n"
     ]
    }
   ],
   "source": [
    "l1 = ['Banana','BlueBerry','Apple','Kiwi','BlackBerry','Cherry','Brazil Nut','Chickoo']\n",
    "l2 = [i for i in l1 if i[0]=='B' or i[0]=='b']\n",
    "print(l2)"
   ]
  },
  {
   "cell_type": "markdown",
   "metadata": {},
   "source": [
    "### 17) WAP to create a list of common elements from given two lists."
   ]
  },
  {
   "cell_type": "code",
   "execution_count": 72,
   "metadata": {},
   "outputs": [
    {
     "name": "stdout",
     "output_type": "stream",
     "text": [
      "Common elements are : [1, 3, 5]\n"
     ]
    }
   ],
   "source": [
    "l1 = [1,2,3,4,5]\n",
    "l2 = [5,3,8,9,1]\n",
    "l3 = []\n",
    "for i in l1:\n",
    "    for j in l2:\n",
    "        if i == j:\n",
    "            l3.append(i)\n",
    "print('Common elements are :',l3)"
   ]
  },
  {
   "cell_type": "code",
   "execution_count": 74,
   "metadata": {},
   "outputs": [
    {
     "name": "stdout",
     "output_type": "stream",
     "text": [
      "Common elements are : [1, 3, 5]\n"
     ]
    }
   ],
   "source": [
    "l1 = [1,2,3,4,5]\n",
    "l2 = [5,3,8,9,1]\n",
    "l3 = []\n",
    "for i in l1:\n",
    "    if i in l2:\n",
    "        l3.append(i)\n",
    "print('Common elements are :',l3)"
   ]
  },
  {
   "cell_type": "code",
   "execution_count": 76,
   "metadata": {},
   "outputs": [
    {
     "name": "stdout",
     "output_type": "stream",
     "text": [
      "Common elements are : [1, 3, 5]\n"
     ]
    }
   ],
   "source": [
    "l1 = [1,2,3,4,5]\n",
    "l2 = [5,3,8,9,1]\n",
    "l3 = [i for i in l1 if i in l2]\n",
    "print('Common elements are :',l3)"
   ]
  },
  {
   "cell_type": "code",
   "execution_count": null,
   "metadata": {},
   "outputs": [],
   "source": []
  }
 ],
 "metadata": {
  "kernelspec": {
   "display_name": "Python 3 (ipykernel)",
   "language": "python",
   "name": "python3"
  },
  "language_info": {
   "codemirror_mode": {
    "name": "ipython",
    "version": 3
   },
   "file_extension": ".py",
   "mimetype": "text/x-python",
   "name": "python",
   "nbconvert_exporter": "python",
   "pygments_lexer": "ipython3",
   "version": "3.12.7"
  }
 },
 "nbformat": 4,
 "nbformat_minor": 4
}
