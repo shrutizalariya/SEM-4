{
 "cells": [
  {
   "attachments": {},
   "cell_type": "markdown",
   "metadata": {},
   "source": [
    "<a href='https://www.darshan.ac.in/'> <img src='https://www.darshan.ac.in/Content/media/DU_Logo.svg' width=\"250\" height=\"300\"/></a>\n",
    "<pre>\n",
    "<center><b><h1>Python Programming - 2301CS404</b></center>\n",
    "<center><b><h1>Lab - 6</b></center> \n",
    "<center><b><h1>Shruti | 23010101311 | 30-12-2024</b></center>  \n",
    "<pre>"
   ]
  },
  {
   "cell_type": "markdown",
   "metadata": {},
   "source": [
    "# Tuple"
   ]
  },
  {
   "cell_type": "markdown",
   "metadata": {},
   "source": [
    "### 01) WAP to find sum of tuple elements."
   ]
  },
  {
   "cell_type": "code",
   "execution_count": 13,
   "metadata": {},
   "outputs": [
    {
     "name": "stdout",
     "output_type": "stream",
     "text": [
      "Sum = 15\n"
     ]
    }
   ],
   "source": [
    "t1 = (1,2,3,4,5)\n",
    "sum = 0\n",
    "for i in t1:\n",
    "    sum = sum + i;\n",
    "print('Sum =',sum)"
   ]
  },
  {
   "cell_type": "markdown",
   "metadata": {},
   "source": [
    "### 02) WAP to find Maximum and Minimum K elements in a given tuple."
   ]
  },
  {
   "cell_type": "code",
   "execution_count": 85,
   "metadata": {},
   "outputs": [
    {
     "name": "stdin",
     "output_type": "stream",
     "text": [
      "Enter K : 3\n"
     ]
    },
    {
     "name": "stdout",
     "output_type": "stream",
     "text": [
      "Max k elements are : [30, 40, 50] \n",
      "Min k elements are : [1, 2, 3]\n"
     ]
    }
   ],
   "source": [
    "t1 = (10, 20, 30, 40, 50, 1, 2, 3, 4, 5)\n",
    "k = int(input('Enter K :'))\n",
    "t1 = sorted(t1) #Sorted attribute sort the data\n",
    "min = t1[:k] #strat from index 0 upto k-1\n",
    "max = t1[-k:] #strat from -k end to -1 and last index is always -1 in reverse case\n",
    "print('Max k elements are :',max,'\\nMin k elements are :',min)"
   ]
  },
  {
   "cell_type": "markdown",
   "metadata": {},
   "source": [
    "### 03) WAP to find tuples which have all elements divisible by K from a list of tuples."
   ]
  },
  {
   "cell_type": "code",
   "execution_count": 178,
   "metadata": {},
   "outputs": [
    {
     "name": "stdin",
     "output_type": "stream",
     "text": [
      "Enter k : 2\n"
     ]
    },
    {
     "name": "stdout",
     "output_type": "stream",
     "text": [
      "(10, 20, 30, 40, 50)\n",
      "(2, 4, 6, 8, 10)\n"
     ]
    }
   ],
   "source": [
    "t1 = (10,20,30,40,50)\n",
    "t2 = (1,2,3,4,5)\n",
    "t3 = (2,4,6,8,10)\n",
    "\n",
    "l1 = [t1,t2,t3]\n",
    "k = int(input('Enter k :'))\n",
    "\n",
    "for i in l1:\n",
    "    count = 0\n",
    "    for j in i:\n",
    "        if j % k == 0:\n",
    "            count+=1\n",
    "    if(count==len(i)):\n",
    "        print(i)"
   ]
  },
  {
   "cell_type": "markdown",
   "metadata": {},
   "source": [
    "### 04) WAP to create a list of tuples from given list having number and its cube in each tuple."
   ]
  },
  {
   "cell_type": "code",
   "execution_count": 157,
   "metadata": {},
   "outputs": [
    {
     "name": "stdout",
     "output_type": "stream",
     "text": [
      "[(2, 8), (4, 64), (6, 216), (8, 512), (10, 1000)]\n"
     ]
    }
   ],
   "source": [
    "l1 = [2,4,6,8,10]\n",
    "ans = [(i,i**3) for i in l1]\n",
    "print(ans)"
   ]
  },
  {
   "cell_type": "markdown",
   "metadata": {},
   "source": [
    "### 05) WAP to find tuples with all positive elements from the given list of tuples."
   ]
  },
  {
   "cell_type": "code",
   "execution_count": 170,
   "metadata": {},
   "outputs": [
    {
     "name": "stdout",
     "output_type": "stream",
     "text": [
      "(2, 4, 6, 8, 10)\n"
     ]
    }
   ],
   "source": [
    "t1 = (10,20,30,-40,50)\n",
    "t2 = (1,2,-3,4,5)\n",
    "t3 = (2,4,6,8,10)\n",
    "l1 = [t1,t2,t3]\n",
    "\n",
    "for i in l1:\n",
    "    count = 0\n",
    "    for j in i:\n",
    "        if j>0:\n",
    "            count+=1\n",
    "    if(count==len(i)):\n",
    "        print(i)"
   ]
  },
  {
   "cell_type": "markdown",
   "metadata": {},
   "source": [
    "### 06) WAP to add tuple to list and vice – versa."
   ]
  },
  {
   "cell_type": "code",
   "execution_count": 206,
   "metadata": {},
   "outputs": [
    {
     "name": "stdout",
     "output_type": "stream",
     "text": [
      "[(1, 2), (3, 4), (10, 20)]\n"
     ]
    },
    {
     "data": {
      "text/plain": [
       "([(1, 2), (3, 4), (10, 20)], [5, 6], [7, 8])"
      ]
     },
     "execution_count": 206,
     "metadata": {},
     "output_type": "execute_result"
    }
   ],
   "source": [
    "t1 = (1,2)\n",
    "t2 = (3,4)\n",
    "t3 = (10,20)\n",
    "\n",
    "l1 = [t1,t2]\n",
    "\n",
    "l2 = [5,6]\n",
    "l3 = [7,8]\n",
    "\n",
    "t4 = (l1,l2)\n",
    "\n",
    "l1.append(t3)\n",
    "print(l1)\n",
    "\n",
    "t4 = list(t4)\n",
    "t4.append(l3)\n",
    "t4 = tuple(t4)\n",
    "t4"
   ]
  },
  {
   "cell_type": "code",
   "execution_count": 210,
   "metadata": {},
   "outputs": [
    {
     "name": "stdout",
     "output_type": "stream",
     "text": [
      "[(1, 2), (3, 4), (10, 20)]\n",
      "([(1, 2), (3, 4), (10, 20)], [5, 6], [7, 8])\n"
     ]
    }
   ],
   "source": [
    "t1 = (1,2)\n",
    "t2 = (3,4)\n",
    "t3 = (10,20)\n",
    "\n",
    "l1 = [t1,t2]\n",
    "\n",
    "l2 = [5,6]\n",
    "l3 = [7,8]\n",
    "\n",
    "t4 = (l1,l2)\n",
    "\n",
    "l1.append(t3)\n",
    "print(l1)\n",
    "\n",
    "t4 = t4 + (l3,)\n",
    "print(t4)"
   ]
  },
  {
   "cell_type": "markdown",
   "metadata": {},
   "source": [
    "### 07) WAP to remove tuples of length K."
   ]
  },
  {
   "cell_type": "code",
   "execution_count": 17,
   "metadata": {},
   "outputs": [
    {
     "name": "stdin",
     "output_type": "stream",
     "text": [
      "Enter length of tuple : 6\n"
     ]
    },
    {
     "name": "stdout",
     "output_type": "stream",
     "text": [
      "[(1, 2, 5, 6, 7), (3, 4), (10, 20, 30)]\n"
     ]
    }
   ],
   "source": [
    "t1 = (1,2,5,6,7)\n",
    "t2 = (3,4)\n",
    "t3 = (10,20,30)\n",
    "t4 = (1,2,3,4,5,6)\n",
    "\n",
    "l1 = [t1,t2,t3,t4]\n",
    "l2 = []\n",
    "\n",
    "k = int(input('Enter length of tuple :'))\n",
    "\n",
    "for i in l1:\n",
    "    if len(i)!=k:\n",
    "       l2.append(i)\n",
    "print(l2)"
   ]
  },
  {
   "cell_type": "markdown",
   "metadata": {},
   "source": [
    "### 08) WAP to remove duplicates from tuple."
   ]
  },
  {
   "cell_type": "code",
   "execution_count": 33,
   "metadata": {},
   "outputs": [
    {
     "name": "stdout",
     "output_type": "stream",
     "text": [
      "(1, 2, 3, 4, 5, 6, 7, 8)\n"
     ]
    }
   ],
   "source": [
    "t1 = (1, 2, 2, 3, 3, 4, 4, 4, 5, 6, 7, 8)\n",
    "t2 = tuple(set(t1))\n",
    "print(t2)"
   ]
  },
  {
   "cell_type": "code",
   "execution_count": 49,
   "metadata": {},
   "outputs": [
    {
     "name": "stdout",
     "output_type": "stream",
     "text": [
      "(1, 2, 3, 4, 5, 6, 7, 8)\n"
     ]
    }
   ],
   "source": [
    "t1 = (1, 2, 2, 3, 3, 4, 4, 4, 5, 6, 7, 8)\n",
    "t2 = ()\n",
    "for i in t1:\n",
    "    if i not in t2:\n",
    "        t2 = t2 + (i,)\n",
    "print(t2)"
   ]
  },
  {
   "cell_type": "markdown",
   "metadata": {},
   "source": [
    "### 09) WAP to multiply adjacent elements of a tuple and print that resultant tuple."
   ]
  },
  {
   "cell_type": "code",
   "execution_count": 63,
   "metadata": {},
   "outputs": [
    {
     "name": "stdout",
     "output_type": "stream",
     "text": [
      "(2, 6, 12, 20)\n"
     ]
    }
   ],
   "source": [
    "t1 = (1, 2, 3, 4, 5)\n",
    "t2 = ()\n",
    "for i in range(len(t1)-1):\n",
    "    m = t1[i]*t1[i+1]\n",
    "    t2 = t2 + (m,)\n",
    "print(t2)"
   ]
  },
  {
   "cell_type": "markdown",
   "metadata": {},
   "source": [
    "### 10) WAP to test if the given tuple is distinct or not."
   ]
  },
  {
   "cell_type": "code",
   "execution_count": 5,
   "metadata": {},
   "outputs": [
    {
     "name": "stdout",
     "output_type": "stream",
     "text": [
      "Tuple is distinct.\n"
     ]
    }
   ],
   "source": [
    "t1 = (1,2,3,4,5)\n",
    "for i in t1:\n",
    "    if(t1.count(i)!=1):\n",
    "       print('Tuple has duplicate members.')\n",
    "       break;\n",
    "else:\n",
    "     print('Tuple is distinct.')\n"
   ]
  },
  {
   "cell_type": "code",
   "execution_count": null,
   "metadata": {},
   "outputs": [],
   "source": []
  }
 ],
 "metadata": {
  "kernelspec": {
   "display_name": "Python 3 (ipykernel)",
   "language": "python",
   "name": "python3"
  },
  "language_info": {
   "codemirror_mode": {
    "name": "ipython",
    "version": 3
   },
   "file_extension": ".py",
   "mimetype": "text/x-python",
   "name": "python",
   "nbconvert_exporter": "python",
   "pygments_lexer": "ipython3",
   "version": "3.12.7"
  }
 },
 "nbformat": 4,
 "nbformat_minor": 4
}
