{
 "cells": [
  {
   "cell_type": "markdown",
   "metadata": {},
   "source": [
    "<a href='https://www.darshan.ac.in/'> <img src='https://www.darshan.ac.in/Content/media/DU_Logo.svg' width=\"250\" height=\"300\"/></a>\n",
    "<pre>\n",
    "<center><b><h1>Python Programming - 2301CS404</b></center>\n",
    "<center><b><h1>Lab - 9</b></center>\n",
    "<center><b><h1>Shruti | 23010101311 | 27-01-2025</b></center>  \n",
    "<pre>"
   ]
  },
  {
   "cell_type": "markdown",
   "metadata": {},
   "source": [
    "# File I/O"
   ]
  },
  {
   "cell_type": "markdown",
   "metadata": {},
   "source": [
    "### 01) WAP to read and display the contents of a text file. (also try to open the file in some other directory) \n",
    "#### - in the form of a string\n",
    "#### - line by line\n",
    "#### - in the form of a list"
   ]
  },
  {
   "cell_type": "code",
   "execution_count": 9,
   "metadata": {},
   "outputs": [
    {
     "name": "stdout",
     "output_type": "stream",
     "text": [
      "=== File Content as String ===\n",
      "10\n",
      "20\n",
      "50\n",
      "20\n",
      "10\n",
      "\n",
      "\n",
      "=== File Content Line by Line ===\n",
      "10\n",
      "20\n",
      "50\n",
      "20\n",
      "10\n",
      "\n",
      "\n",
      "=== File Content as List ===\n",
      "['10\\n', '20\\n', '50\\n', '20\\n', '10\\n']\n"
     ]
    }
   ],
   "source": [
    "try:\n",
    "    # Read as a single string\n",
    "    with open(\"file1.txt\", \"r\") as file:\n",
    "        content = file.read()\n",
    "        print(\"=== File Content as String ===\")\n",
    "        print(content)\n",
    "\n",
    "    # Read line by line\n",
    "    with open(\"file1.txt\", \"r\") as file:\n",
    "        print(\"\\n=== File Content Line by Line ===\")\n",
    "        for line in file:\n",
    "            print(line, end=\"\")  # Avoids extra new lines\n",
    "\n",
    "    # Read into a list\n",
    "    with open(\"file1.txt\", \"r\") as file:\n",
    "        content_list = file.readlines()\n",
    "        print(\"\\n\\n=== File Content as List ===\")\n",
    "        print(content_list)\n",
    "\n",
    "except FileNotFoundError:\n",
    "    print(\"Error: File not found. Check the path!\")"
   ]
  },
  {
   "cell_type": "markdown",
   "metadata": {},
   "source": [
    "### 02) WAP to create file named \"new.txt\" only if it doesn't exist."
   ]
  },
  {
   "cell_type": "code",
   "execution_count": 21,
   "metadata": {},
   "outputs": [
    {
     "ename": "FileExistsError",
     "evalue": "[Errno 17] File exists: 'new.txt'",
     "output_type": "error",
     "traceback": [
      "\u001b[1;31m---------------------------------------------------------------------------\u001b[0m",
      "\u001b[1;31mFileExistsError\u001b[0m                           Traceback (most recent call last)",
      "Cell \u001b[1;32mIn[21], line 1\u001b[0m\n\u001b[1;32m----> 1\u001b[0m fp \u001b[38;5;241m=\u001b[39m \u001b[38;5;28mopen\u001b[39m(\u001b[38;5;124m'\u001b[39m\u001b[38;5;124mnew.txt\u001b[39m\u001b[38;5;124m'\u001b[39m,\u001b[38;5;124m'\u001b[39m\u001b[38;5;124mx\u001b[39m\u001b[38;5;124m'\u001b[39m)\n\u001b[0;32m      2\u001b[0m fp\u001b[38;5;241m.\u001b[39mclose()\n",
      "File \u001b[1;32m~\\anaconda3\\Lib\\site-packages\\IPython\\core\\interactiveshell.py:324\u001b[0m, in \u001b[0;36m_modified_open\u001b[1;34m(file, *args, **kwargs)\u001b[0m\n\u001b[0;32m    317\u001b[0m \u001b[38;5;28;01mif\u001b[39;00m file \u001b[38;5;129;01min\u001b[39;00m {\u001b[38;5;241m0\u001b[39m, \u001b[38;5;241m1\u001b[39m, \u001b[38;5;241m2\u001b[39m}:\n\u001b[0;32m    318\u001b[0m     \u001b[38;5;28;01mraise\u001b[39;00m \u001b[38;5;167;01mValueError\u001b[39;00m(\n\u001b[0;32m    319\u001b[0m         \u001b[38;5;124mf\u001b[39m\u001b[38;5;124m\"\u001b[39m\u001b[38;5;124mIPython won\u001b[39m\u001b[38;5;124m'\u001b[39m\u001b[38;5;124mt let you open fd=\u001b[39m\u001b[38;5;132;01m{\u001b[39;00mfile\u001b[38;5;132;01m}\u001b[39;00m\u001b[38;5;124m by default \u001b[39m\u001b[38;5;124m\"\u001b[39m\n\u001b[0;32m    320\u001b[0m         \u001b[38;5;124m\"\u001b[39m\u001b[38;5;124mas it is likely to crash IPython. If you know what you are doing, \u001b[39m\u001b[38;5;124m\"\u001b[39m\n\u001b[0;32m    321\u001b[0m         \u001b[38;5;124m\"\u001b[39m\u001b[38;5;124myou can use builtins\u001b[39m\u001b[38;5;124m'\u001b[39m\u001b[38;5;124m open.\u001b[39m\u001b[38;5;124m\"\u001b[39m\n\u001b[0;32m    322\u001b[0m     )\n\u001b[1;32m--> 324\u001b[0m \u001b[38;5;28;01mreturn\u001b[39;00m io_open(file, \u001b[38;5;241m*\u001b[39margs, \u001b[38;5;241m*\u001b[39m\u001b[38;5;241m*\u001b[39mkwargs)\n",
      "\u001b[1;31mFileExistsError\u001b[0m: [Errno 17] File exists: 'new.txt'"
     ]
    }
   ],
   "source": [
    "fp = open('new.txt','x')\n",
    "fp.close()\n",
    "\n",
    "#Error show because file is already existed"
   ]
  },
  {
   "cell_type": "markdown",
   "metadata": {},
   "source": [
    "### 03) WAP to read first 5 lines from the text file."
   ]
  },
  {
   "cell_type": "code",
   "execution_count": 55,
   "metadata": {},
   "outputs": [
    {
     "name": "stdout",
     "output_type": "stream",
     "text": [
      "Hi\n",
      "\n",
      "Hello\n",
      "\n",
      "How\n",
      "\n",
      "Are \n",
      "\n",
      "You?\n",
      "\n"
     ]
    }
   ],
   "source": [
    "fp = open('new.txt','r')\n",
    "for i in range(0,5):\n",
    "    print(fp.readline())\n",
    "fp.close()"
   ]
  },
  {
   "cell_type": "markdown",
   "metadata": {},
   "source": [
    "### 04) WAP to find the longest word(s) in a file"
   ]
  },
  {
   "cell_type": "code",
   "execution_count": 7,
   "metadata": {},
   "outputs": [
    {
     "name": "stdout",
     "output_type": "stream",
     "text": [
      "You?Is\n"
     ]
    }
   ],
   "source": [
    "fp = open(\"new.txt\",\"r\")\n",
    "li = fp.readlines()\n",
    "max = 0\n",
    "for i in li:\n",
    "    nw = i.split()\n",
    "    for j in nw:\n",
    "        if len(j)>max:\n",
    "            max = len(j)\n",
    "            lw = j   \n",
    "print(lw)\n",
    "fp.close()"
   ]
  },
  {
   "cell_type": "markdown",
   "metadata": {},
   "source": [
    "### 05) WAP to count the no. of lines, words and characters in a given text file."
   ]
  },
  {
   "cell_type": "code",
   "execution_count": 2,
   "metadata": {},
   "outputs": [
    {
     "name": "stdout",
     "output_type": "stream",
     "text": [
      "Number of lines = 5\n",
      "Number of words = 6\n",
      "['Hi\\n', 'Hello\\n', 'How\\n', 'Are\\n', 'You?\\n', 'Kem Chho?\\n']\n",
      "Number of characters = 32\n"
     ]
    }
   ],
   "source": [
    "fp = open(\"new.txt\",\"r\")\n",
    "\n",
    "#number of lines\n",
    "li = fp.readlines()\n",
    "lines = len(li)-1\n",
    "print('Number of lines =',lines)\n",
    "\n",
    "#number of words\n",
    "li2 = str(li).split()\n",
    "words = len(li2)-1\n",
    "print('Number of words =',words)\n",
    "\n",
    "#number of characters\n",
    "sum = 0\n",
    "print(li)\n",
    "for i in li:\n",
    "    sum = sum + len(i)\n",
    "print('Number of characters =',sum)\n",
    "\n",
    "fp.close()"
   ]
  },
  {
   "cell_type": "markdown",
   "metadata": {},
   "source": [
    "### 06) WAP to copy the content of a file to the another file."
   ]
  },
  {
   "cell_type": "code",
   "execution_count": 19,
   "metadata": {},
   "outputs": [
    {
     "name": "stdout",
     "output_type": "stream",
     "text": [
      "File copied successfully!\n"
     ]
    }
   ],
   "source": [
    "fp = open(\"new.txt\",\"r\")\n",
    "fp1 = fp.read()\n",
    "fp2 = open(\"file.txt\",\"w\")\n",
    "fp2.write(fp1)\n",
    "fp.close()\n",
    "fp2.close()\n",
    "\n",
    "print(\"File copied successfully!\")"
   ]
  },
  {
   "cell_type": "markdown",
   "metadata": {},
   "source": [
    "### 07) WAP to find the size of the text file. "
   ]
  },
  {
   "cell_type": "code",
   "execution_count": 6,
   "metadata": {},
   "outputs": [
    {
     "name": "stdout",
     "output_type": "stream",
     "text": [
      "The size of the file is: 40 bytes\n"
     ]
    }
   ],
   "source": [
    "with open(\"file.txt\", \"rb\") as fp:\n",
    "    file_size = fp.seek(0, 2)\n",
    "print(f\"The size of the file is: {file_size} bytes\")\n",
    "fp.close()"
   ]
  },
  {
   "cell_type": "markdown",
   "metadata": {},
   "source": [
    "### 08) WAP to create an UDF named frequency to count occurances of the specific word in a given text file."
   ]
  },
  {
   "cell_type": "code",
   "execution_count": 13,
   "metadata": {},
   "outputs": [
    {
     "name": "stdout",
     "output_type": "stream",
     "text": [
      "1\n",
      "1\n"
     ]
    }
   ],
   "source": [
    "fp = open(\"new.txt\" , \"r\")\n",
    "def NameFrequency(fp):\n",
    "    nThis = 0\n",
    "    nIs=0\n",
    "    for i in fp:\n",
    "        nThis += i.split().count('This')\n",
    "        nIs += i.split().count('Is')\n",
    "    print(nThis)\n",
    "    print(nIs)\n",
    "NameFrequency(fp)\n",
    "fp.close()"
   ]
  },
  {
   "cell_type": "markdown",
   "metadata": {},
   "source": [
    "### 09) WAP to get the score of five subjects from the user, store them in a file. Fetch those marks and find the highest score."
   ]
  },
  {
   "cell_type": "code",
   "execution_count": 21,
   "metadata": {},
   "outputs": [
    {
     "name": "stdin",
     "output_type": "stream",
     "text": [
      "Enter score for subject 1:  10\n",
      "Enter score for subject 2:  20\n",
      "Enter score for subject 3:  50\n",
      "Enter score for subject 4:  20\n",
      "Enter score for subject 5:  10\n"
     ]
    },
    {
     "name": "stdout",
     "output_type": "stream",
     "text": [
      "Stored scores in file:\n",
      "10\n",
      "20\n",
      "50\n",
      "20\n",
      "10\n",
      "\n",
      "Highest score over these 5 subjects is : 50\n"
     ]
    }
   ],
   "source": [
    "li = []\n",
    "fp = open('file1.txt',\"w+\")\n",
    "for i in range(0,5):\n",
    "    score = int(input(f'Enter score for subject {i+1}: '))\n",
    "    li.append(score)\n",
    "    fp.write(str(score) + \"\\n\")\n",
    "    \n",
    "fp.seek(0)  # Move file pointer to the beginning\n",
    "print(\"Stored scores in file:\")\n",
    "print(fp.read())\n",
    "\n",
    "fp.close()\n",
    "\n",
    "max_score = max(li)\n",
    "print('Highest score over these 5 subjects is :', max_score)"
   ]
  },
  {
   "cell_type": "markdown",
   "metadata": {},
   "source": [
    "### 10) WAP to write first 100 prime numbers to a file named primenumbers.txt \n",
    "(Note: each number should be in new line)"
   ]
  },
  {
   "cell_type": "code",
   "execution_count": 27,
   "metadata": {},
   "outputs": [
    {
     "name": "stdout",
     "output_type": "stream",
     "text": [
      "First 100 prime numbers written to primenumbers.txt successfully.\n"
     ]
    }
   ],
   "source": [
    "fp = open(\"primenumbers.txt\",\"w+\")\n",
    "num = 1\n",
    "count_p = 0\n",
    "while count_p<100:\n",
    "    count = 0\n",
    "    for i in range(2,(num//2)+1):\n",
    "        if num%i==0:\n",
    "            count+=1\n",
    "    if count==0:\n",
    "        fp.write(str(num) + \"\\n\")\n",
    "        count_p+=1\n",
    "    num+=1\n",
    "fp.close()\n",
    "print(\"First 100 prime numbers written to primenumbers.txt successfully.\")"
   ]
  },
  {
   "cell_type": "markdown",
   "metadata": {},
   "source": [
    "### 11) WAP to merge two files and write it in a new file."
   ]
  },
  {
   "cell_type": "code",
   "execution_count": 34,
   "metadata": {},
   "outputs": [
    {
     "name": "stdout",
     "output_type": "stream",
     "text": [
      "File merged successfully.\n"
     ]
    }
   ],
   "source": [
    "fp1 = open(\"file.txt\",\"r\")\n",
    "content1 = fp1.read()\n",
    "\n",
    "fp2 = open(\"file1.txt\",\"r\")\n",
    "content2 = fp2.read()\n",
    "\n",
    "final_content = content1 + \"\\n\" + content2\n",
    "\n",
    "fp = open(\"file2.txt\",\"w\")\n",
    "fp.write(final_content)\n",
    "fp.close()\n",
    "print('File merged successfully.')"
   ]
  },
  {
   "cell_type": "markdown",
   "metadata": {},
   "source": [
    "### 12) WAP to replace word1 by word2 of a text file. Write the updated data to new file."
   ]
  },
  {
   "cell_type": "code",
   "execution_count": 25,
   "metadata": {},
   "outputs": [
    {
     "name": "stdout",
     "output_type": "stream",
     "text": [
      "Replaced 'word1' with 'word2' successfully. Output saved in 'output.txt'\n"
     ]
    }
   ],
   "source": [
    "fp = open(\"file1.txt\", 'r')\n",
    "content = fp.read().replace(\"word1\", \"word2\")\n",
    "fp.close()\n",
    "\n",
    "fp1 = open(\"output.txt\", 'w')\n",
    "fp1.write(content)\n",
    "fp1.close()\n",
    "\n",
    "print(\"Replaced 'word1' with 'word2' successfully. Output saved in 'output.txt'\")"
   ]
  },
  {
   "cell_type": "markdown",
   "metadata": {},
   "source": [
    "### 13) Demonstrate tell() and seek() for all the cases(seek from beginning-end-current position) taking a suitable example of your choice."
   ]
  },
  {
   "cell_type": "code",
   "execution_count": 43,
   "metadata": {},
   "outputs": [
    {
     "name": "stdout",
     "output_type": "stream",
     "text": [
      "Initial position: 0\n",
      "After seeking 7 bytes from the beginning: 7\n",
      "After seeking 5 bytes forward from current position: 12\n",
      "After seeking 10 bytes back from the end: 24\n",
      "Remaining text from current position: text file.\n"
     ]
    }
   ],
   "source": [
    "fp = open(\"sampletellseek.txt\", \"w\")\n",
    "fp.write(\"Hello, this is a sample text file.\")\n",
    "fp.close()  \n",
    "\n",
    "fp = open(\"sampletellseek.txt\", \"rb\")\n",
    "\n",
    "print(\"Initial position:\", fp.tell())  # Position at the beginning (0)\n",
    "\n",
    "# Seek from the beginning (use 0)\n",
    "fp.seek(7, 0)  \n",
    "print(\"After seeking 7 bytes from the beginning:\", fp.tell())\n",
    "\n",
    "# Seek from the current position (use 1)\n",
    "fp.seek(5, 1)  \n",
    "print(\"After seeking 5 bytes forward from current position:\", fp.tell())\n",
    "\n",
    "# Seek from the end (use 2)\n",
    "fp.seek(-10, 2)  \n",
    "print(\"After seeking 10 bytes back from the end:\", fp.tell())\n",
    "\n",
    "# Reading from the final position\n",
    "print(\"Remaining text from current position:\", fp.read().decode())\n",
    "\n",
    "fp.close() "
   ]
  },
  {
   "cell_type": "code",
   "execution_count": null,
   "metadata": {},
   "outputs": [],
   "source": []
  }
 ],
 "metadata": {
  "kernelspec": {
   "display_name": "Python 3 (ipykernel)",
   "language": "python",
   "name": "python3"
  },
  "language_info": {
   "codemirror_mode": {
    "name": "ipython",
    "version": 3
   },
   "file_extension": ".py",
   "mimetype": "text/x-python",
   "name": "python",
   "nbconvert_exporter": "python",
   "pygments_lexer": "ipython3",
   "version": "3.12.7"
  }
 },
 "nbformat": 4,
 "nbformat_minor": 4
}
