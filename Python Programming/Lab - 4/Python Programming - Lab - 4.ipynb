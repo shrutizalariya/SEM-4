{
 "cells": [
  {
   "cell_type": "markdown",
   "metadata": {},
   "source": [
    "\n",
    "<a href='https://www.darshan.ac.in/'> <img src='https://www.darshan.ac.in/Content/media/DU_Logo.svg' width=\"250\" height=\"300\"/></a>\n",
    "<pre>\n",
    "<center><b><h1>Python Programming - 2301CS404</b></center>\n",
    "<center><b><h1>Lab - 4</b></center>  \n",
    "<center><b><h1>Shruti | 23010101311 | 16-12-2024</b></center>  \n",
    "<pre>"
   ]
  },
  {
   "cell_type": "markdown",
   "metadata": {},
   "source": [
    "# String"
   ]
  },
  {
   "cell_type": "markdown",
   "metadata": {},
   "source": [
    "### 01) WAP to check whether the given string is palindrome or not."
   ]
  },
  {
   "cell_type": "code",
   "execution_count": 8,
   "metadata": {},
   "outputs": [
    {
     "name": "stdin",
     "output_type": "stream",
     "text": [
      "Enter a string : abcdcba\n"
     ]
    },
    {
     "name": "stdout",
     "output_type": "stream",
     "text": [
      "abcdcba is palindrom string.\n"
     ]
    }
   ],
   "source": [
    "str = input('Enter a string :')\n",
    "str1 = str[::-1]\n",
    "if(str==str1):\n",
    "    print(str,'is palindrom string.')\n",
    "else:\n",
    "    print(str,'is not palindrom string.')"
   ]
  },
  {
   "cell_type": "markdown",
   "metadata": {},
   "source": [
    "### 02) WAP to reverse the words in the given string."
   ]
  },
  {
   "cell_type": "code",
   "execution_count": 42,
   "metadata": {},
   "outputs": [
    {
     "name": "stdin",
     "output_type": "stream",
     "text": [
      "Enter a string : zalariya shruti b.tech\n"
     ]
    },
    {
     "name": "stdout",
     "output_type": "stream",
     "text": [
      "Original string is : zalariya shruti b.tech\n",
      "Reverse word string is : b.tech shruti zalariya\n"
     ]
    }
   ],
   "source": [
    "str = input('Enter a string :')\n",
    "print('Original string is :',str)\n",
    "str1 = str.split(' ')\n",
    "str2 = str1[::-1]\n",
    "str3 = ' '.join(str2)\n",
    "print('Reverse word string is :',str3)"
   ]
  },
  {
   "cell_type": "markdown",
   "metadata": {},
   "source": [
    "### 03) WAP to remove ith character from given string."
   ]
  },
  {
   "cell_type": "code",
   "execution_count": 74,
   "metadata": {},
   "outputs": [
    {
     "name": "stdin",
     "output_type": "stream",
     "text": [
      "Enter a string : shruti\n",
      "Enter index for remove character : 3\n"
     ]
    },
    {
     "name": "stdout",
     "output_type": "stream",
     "text": [
      "s\n",
      "h\n",
      "r\n",
      "u\n",
      "t\n",
      "i\n"
     ]
    }
   ],
   "source": [
    "str = input('Enter a string :')\n",
    "a = int(input('Enter index for remove character :'))\n",
    "for i in str:\n",
    "    if i!=a:\n",
    "        print(i);\n",
    "    else:\n",
    "        print();"
   ]
  },
  {
   "cell_type": "markdown",
   "metadata": {},
   "source": [
    "### 04) WAP to find length of string without using len function."
   ]
  },
  {
   "cell_type": "code",
   "execution_count": 12,
   "metadata": {},
   "outputs": [
    {
     "name": "stdin",
     "output_type": "stream",
     "text": [
      "Enter a string : zalariya\n"
     ]
    },
    {
     "name": "stdout",
     "output_type": "stream",
     "text": [
      "Length of this string is = 8\n"
     ]
    }
   ],
   "source": [
    "str = input('Enter a string :')\n",
    "len = 0\n",
    "for i in str:\n",
    "    len+=1\n",
    "print('Length of this string is =',len)"
   ]
  },
  {
   "cell_type": "markdown",
   "metadata": {},
   "source": [
    "### 05) WAP to print even length word in string."
   ]
  },
  {
   "cell_type": "code",
   "execution_count": 15,
   "metadata": {},
   "outputs": [
    {
     "name": "stdin",
     "output_type": "stream",
     "text": [
      "Enter a string : shruti riya nandu \n"
     ]
    },
    {
     "name": "stdout",
     "output_type": "stream",
     "text": [
      "shruti\n",
      "riya\n",
      "\n"
     ]
    }
   ],
   "source": [
    "str = input('Enter a string :')\n",
    "str1 = str.split(' ')\n",
    "for i in str1:\n",
    "    l = len(i)\n",
    "    if l%2==0:\n",
    "        print(i)"
   ]
  },
  {
   "cell_type": "markdown",
   "metadata": {},
   "source": [
    "### 06) WAP to count numbers of vowels in given string."
   ]
  },
  {
   "cell_type": "code",
   "execution_count": 50,
   "metadata": {},
   "outputs": [
    {
     "name": "stdin",
     "output_type": "stream",
     "text": [
      "Enter a string : darshan university\n"
     ]
    },
    {
     "name": "stdout",
     "output_type": "stream",
     "text": [
      "Number of vowels in string = 6\n"
     ]
    }
   ],
   "source": [
    "str = input('Enter a string :')\n",
    "count = 0\n",
    "for i in str:\n",
    "    if 'a' in i or 'e' in i or 'i' in i or 'o' in i or 'u' in i:\n",
    "        count+=1\n",
    "print('Number of vowels in string =',count)"
   ]
  },
  {
   "cell_type": "markdown",
   "metadata": {},
   "source": [
    "### 07) WAP to capitalize the first and last character of each word in a string."
   ]
  },
  {
   "cell_type": "code",
   "execution_count": 25,
   "metadata": {},
   "outputs": [
    {
     "name": "stdin",
     "output_type": "stream",
     "text": [
      "Enter string:  Zalariya shrutI r\n"
     ]
    },
    {
     "name": "stdout",
     "output_type": "stream",
     "text": [
      "Modified string: ZalariyA ShrutI R\n"
     ]
    }
   ],
   "source": [
    "str = input('Enter string: ')\n",
    "\n",
    "str1 = str.split(' ')\n",
    "\n",
    "str2 = []\n",
    "\n",
    "for i in str1:\n",
    "    if len(i) > 1:\n",
    "        i = i[0].upper() + i[1:len(i)-1] + i[-1].upper()\n",
    "    elif len(i) == 1:\n",
    "        i = i.upper()\n",
    "        \n",
    "    # Add the modified word to the list\n",
    "    str2.append(i)\n",
    "\n",
    "# Join the modified words into a single string\n",
    "result_str = ' '.join(str2)\n",
    "\n",
    "# Print the final result\n",
    "print(\"Modified string:\", result_str)"
   ]
  },
  {
   "cell_type": "markdown",
   "metadata": {},
   "source": [
    "### 08) WAP to convert given array to string."
   ]
  },
  {
   "cell_type": "code",
   "execution_count": 77,
   "metadata": {},
   "outputs": [
    {
     "name": "stdout",
     "output_type": "stream",
     "text": [
      "Enter Array Elements!\n"
     ]
    },
    {
     "name": "stdin",
     "output_type": "stream",
     "text": [
      "a[0] = s\n",
      "a[1] = h\n",
      "a[2] = r\n",
      "a[3] = u\n",
      "a[4] = t\n",
      "a[5] = i\n"
     ]
    },
    {
     "data": {
      "text/plain": [
       "'shruti'"
      ]
     },
     "execution_count": 77,
     "metadata": {},
     "output_type": "execute_result"
    }
   ],
   "source": [
    "print('Enter Array Elements!')\n",
    "for i in range(0,6):\n",
    "    element = input(f'a[{i}] =')\n",
    "    a.append(element)\n",
    "s = ''\n",
    "s.join(a)"
   ]
  },
  {
   "cell_type": "code",
   "execution_count": 79,
   "metadata": {},
   "outputs": [
    {
     "data": {
      "text/plain": [
       "'Morbi'"
      ]
     },
     "execution_count": 79,
     "metadata": {},
     "output_type": "execute_result"
    }
   ],
   "source": [
    "a = ['M','o','r','b','i']\n",
    "''.join(a)"
   ]
  },
  {
   "cell_type": "markdown",
   "metadata": {},
   "source": [
    "### 09) Check if the password and confirm password is same or not. \n",
    "### In case of only case's mistake, show the error message."
   ]
  },
  {
   "cell_type": "code",
   "execution_count": 59,
   "metadata": {},
   "outputs": [
    {
     "name": "stdin",
     "output_type": "stream",
     "text": [
      "Enter Password : Shruti\n",
      "Enter Confirm Password : SHRUTI\n"
     ]
    },
    {
     "name": "stdout",
     "output_type": "stream",
     "text": [
      "Cases mistake are there!\n"
     ]
    }
   ],
   "source": [
    "Pass = input('Enter Password :')\n",
    "c_pass = input('Enter Confirm Password :')\n",
    "if Pass==c_pass:\n",
    "    print('Both are Same!')\n",
    "else:\n",
    "    if(Pass.lower()==c_pass.lower()):\n",
    "        print('Cases mistake are there!')\n",
    "    else:\n",
    "        print('Both are not same!\\nSomething went wrong!!!!!')"
   ]
  },
  {
   "cell_type": "markdown",
   "metadata": {},
   "source": [
    "### 10) : Display credit card number. \n",
    "### card no. : 1234 5678 9012 3456\n",
    "### display as  : **** **** **** 3456"
   ]
  },
  {
   "cell_type": "code",
   "execution_count": 49,
   "metadata": {},
   "outputs": [
    {
     "name": "stdout",
     "output_type": "stream",
     "text": [
      "**** **** **** 3456\n"
     ]
    }
   ],
   "source": [
    "card_no = '1234 5678 9012 3456'\n",
    "a = card_no.split(' ')\n",
    "for i in a:\n",
    "    card = i[:12].replace(i[:12],'**** **** **** ') + i[-4:]\n",
    "print(card)"
   ]
  },
  {
   "cell_type": "code",
   "execution_count": 5,
   "metadata": {},
   "outputs": [
    {
     "name": "stdout",
     "output_type": "stream",
     "text": [
      "**** **** **** 3456\n"
     ]
    }
   ],
   "source": [
    "card_no = '1234 5678 9012 3456'\n",
    "a = card_no.split(' ')\n",
    "card = '**** **** **** ' + a[3]\n",
    "print(card)"
   ]
  },
  {
   "cell_type": "markdown",
   "metadata": {},
   "source": [
    "### 11) : Checking if the two strings are Anagram or not.\n",
    "### s1 = decimal and s2 = medical are Anagram"
   ]
  },
  {
   "cell_type": "code",
   "execution_count": 3,
   "metadata": {},
   "outputs": [
    {
     "name": "stdin",
     "output_type": "stream",
     "text": [
      "Enter str 1:  ieieieie\n",
      "Enter str 2:  ieieieee\n"
     ]
    },
    {
     "name": "stdout",
     "output_type": "stream",
     "text": [
      "Strings are not an Anagram!\n"
     ]
    }
   ],
   "source": [
    "s1 = input('Enter str 1: ')\n",
    "s2 = input('Enter str 2: ')\n",
    "\n",
    "# Convert both strings to lowercase \n",
    "s1 = s1.lower()\n",
    "s2 = s2.lower()\n",
    "\n",
    "# Sort both strings\n",
    "s3 = ''.join(sorted(s1))\n",
    "s4 = ''.join(sorted(s2))\n",
    "\n",
    "if s3 == s4:\n",
    "    print('Strings are an Anagram!')\n",
    "else:\n",
    "    print('Strings are not an Anagram!')"
   ]
  },
  {
   "cell_type": "markdown",
   "metadata": {},
   "source": [
    "### 12) : Rearrange the given string. First lowercase then uppercase alphabets.\n",
    "### input : EHlsarwiwhtwMV\n",
    "### output : lsarwiwhtwEHMV"
   ]
  },
  {
   "cell_type": "code",
   "execution_count": 84,
   "metadata": {},
   "outputs": [
    {
     "name": "stdin",
     "output_type": "stream",
     "text": [
      "Enter a string: EHlsarwiwhtwMV\n"
     ]
    },
    {
     "name": "stdout",
     "output_type": "stream",
     "text": [
      "lsarwiwhtwEHMV\n"
     ]
    }
   ],
   "source": [
    "str = input('Enter a string:')\n",
    "str1 = ''\n",
    "str2 = ''\n",
    "for i in str:\n",
    "    if i.isupper():\n",
    "        str1+=i\n",
    "    else :\n",
    "        str2+=i\n",
    "str3 = str2 + str1\n",
    "print(str3)"
   ]
  },
  {
   "cell_type": "code",
   "execution_count": null,
   "metadata": {},
   "outputs": [],
   "source": []
  }
 ],
 "metadata": {
  "kernelspec": {
   "display_name": "Python 3 (ipykernel)",
   "language": "python",
   "name": "python3"
  },
  "language_info": {
   "codemirror_mode": {
    "name": "ipython",
    "version": 3
   },
   "file_extension": ".py",
   "mimetype": "text/x-python",
   "name": "python",
   "nbconvert_exporter": "python",
   "pygments_lexer": "ipython3",
   "version": "3.12.7"
  },
  "vscode": {
   "interpreter": {
    "hash": "31f2aee4e71d21fbe5cf8b01ff0e069b9275f58929596ceb00d14d90e3e16cd6"
   }
  }
 },
 "nbformat": 4,
 "nbformat_minor": 4
}
