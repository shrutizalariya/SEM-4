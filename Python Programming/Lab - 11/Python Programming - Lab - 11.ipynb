{
 "cells": [
  {
   "attachments": {},
   "cell_type": "markdown",
   "metadata": {},
   "source": [
    "<a href='https://www.darshan.ac.in/'> <img src='https://www.darshan.ac.in/Content/media/DU_Logo.svg' width=\"250\" height=\"300\"/></a>\n",
    "<pre>\n",
    "<center><b><h1>Python Programming - 2301CS404</b></center>\n",
    "<center><b><h1>Lab - 11</b></center>   \n",
    "<center><b><h1>Shruti | 23010101311 | 10-02-2025</b></center>   \n",
    "<pre>"
   ]
  },
  {
   "cell_type": "markdown",
   "metadata": {},
   "source": [
    "# Modules"
   ]
  },
  {
   "cell_type": "markdown",
   "metadata": {},
   "source": [
    "### 01) WAP to create Calculator module which defines functions like add, sub,mul and div. \n",
    "### Create another .py file that uses the functions available in Calculator module."
   ]
  },
  {
   "cell_type": "code",
   "execution_count": 54,
   "metadata": {},
   "outputs": [
    {
     "name": "stdin",
     "output_type": "stream",
     "text": [
      "Enter first number:  10\n",
      "Enter second number:  2\n"
     ]
    },
    {
     "name": "stdout",
     "output_type": "stream",
     "text": [
      "Addition = 12.0\n",
      "Subtraction = 8.0\n",
      "Multiplictaion = 20.0\n",
      "Division = 5.0\n"
     ]
    }
   ],
   "source": [
    "import calculator\n",
    "a = float(input(\"Enter first number: \"))\n",
    "b = float(input(\"Enter second number: \"))\n",
    "\n",
    "print('Addition =',calculator.Addition(a,b))\n",
    "print('Subtraction =',calculator.Subtraction(a,b))\n",
    "print('Multiplictaion =',calculator.Multiplication(a,b))\n",
    "print('Division =',calculator.Division(a,b))"
   ]
  },
  {
   "cell_type": "markdown",
   "metadata": {},
   "source": [
    "### 02) WAP to pick a random character from a given String."
   ]
  },
  {
   "cell_type": "code",
   "execution_count": 20,
   "metadata": {},
   "outputs": [
    {
     "name": "stdout",
     "output_type": "stream",
     "text": [
      "Enter String : Shruti\n"
     ]
    },
    {
     "name": "stdout",
     "output_type": "stream",
     "text": [
      "Random character from the given string : r\n"
     ]
    }
   ],
   "source": [
    "import random\n",
    "str = input('Enter String :')\n",
    "print('Random character from the given string :',random.choice(str))"
   ]
  },
  {
   "cell_type": "code",
   "execution_count": 24,
   "metadata": {},
   "outputs": [
    {
     "name": "stdout",
     "output_type": "stream",
     "text": [
      "Enter String : shruti\n"
     ]
    },
    {
     "name": "stdout",
     "output_type": "stream",
     "text": [
      "Random character from the given string : h\n"
     ]
    }
   ],
   "source": [
    "import random\n",
    "str = input('Enter String :')\n",
    "n = random.randrange(0,len(str))\n",
    "print('Random character from the given string :',str[n])"
   ]
  },
  {
   "cell_type": "markdown",
   "metadata": {},
   "source": [
    "### 03) WAP to pick a random element from a given list."
   ]
  },
  {
   "cell_type": "code",
   "execution_count": 22,
   "metadata": {},
   "outputs": [
    {
     "name": "stdout",
     "output_type": "stream",
     "text": [
      "Random element from the given list : 5\n"
     ]
    }
   ],
   "source": [
    "li = [1 ,2 ,3 ,4 ,5]\n",
    "print('Random element from the given list :',random.choice(li))"
   ]
  },
  {
   "cell_type": "markdown",
   "metadata": {},
   "source": [
    "### 04) WAP to roll a dice in such a way that every time you get the same number."
   ]
  },
  {
   "cell_type": "code",
   "execution_count": 63,
   "metadata": {},
   "outputs": [
    {
     "name": "stdout",
     "output_type": "stream",
     "text": [
      "Random same number : 5\n"
     ]
    }
   ],
   "source": [
    "random.seed(5)\n",
    "print('Random same number :',random.randint(1,6))"
   ]
  },
  {
   "cell_type": "markdown",
   "metadata": {},
   "source": [
    "### 05) WAP to generate 3 random integers between 100 and 999 which is divisible by 5."
   ]
  },
  {
   "cell_type": "code",
   "execution_count": 84,
   "metadata": {},
   "outputs": [
    {
     "name": "stdout",
     "output_type": "stream",
     "text": [
      "Random number between 100 and 999 which is divisible by 5 is =\n",
      "575\n",
      "700\n",
      "415\n"
     ]
    }
   ],
   "source": [
    "print('Random number between 100 and 999 which is divisible by 5 is =')\n",
    "for i in range(0,3):\n",
    "    n = random.randrange(100,999,5)\n",
    "    print(n)"
   ]
  },
  {
   "cell_type": "markdown",
   "metadata": {},
   "source": [
    "### 06) WAP to generate 100 random lottery tickets and pick two lucky tickets from it and announce them as Winner and Runner up respectively."
   ]
  },
  {
   "cell_type": "code",
   "execution_count": 101,
   "metadata": {},
   "outputs": [
    {
     "name": "stdout",
     "output_type": "stream",
     "text": [
      "Runner up is whose lottery ticket number is 9870\n",
      "Winner is whose lottery ticket number is 9030\n"
     ]
    }
   ],
   "source": [
    "li = []\n",
    "for i in range(0,100):\n",
    "    n = random.randint(1000,9999)\n",
    "    li.append(n)\n",
    "\n",
    "winner = random.choice(li)\n",
    "runner_up = random.choice(li)\n",
    "\n",
    "while winner == runner_up:\n",
    "    runner_up = random.choice(li)\n",
    "    \n",
    "print('Runner up is whose lottery ticket number is',runner_up)\n",
    "print('Winner is whose lottery ticket number is',winner)"
   ]
  },
  {
   "cell_type": "markdown",
   "metadata": {},
   "source": [
    "### 07) WAP to print current date and time in Python."
   ]
  },
  {
   "cell_type": "code",
   "execution_count": 103,
   "metadata": {},
   "outputs": [
    {
     "name": "stdout",
     "output_type": "stream",
     "text": [
      "Current date and time is : 2025-02-10 13:19:37.756838\n"
     ]
    }
   ],
   "source": [
    "import datetime\n",
    "print('Current date and time is :',datetime.datetime.today())"
   ]
  },
  {
   "cell_type": "markdown",
   "metadata": {},
   "source": [
    "### 08) Subtract a week (7 days) from a given date in Python."
   ]
  },
  {
   "cell_type": "code",
   "execution_count": null,
   "metadata": {},
   "outputs": [],
   "source": [
    "date = input(\"Enter a date :\")\n",
    "convert_date = datetime.datetime.strptime(date,\"%d/%m/%Y\")\n",
    "subtract_date = convert_date - datetime.timedelta(days=7)\n",
    "print(\"Subtract a week\",subtract_date)"
   ]
  },
  {
   "cell_type": "markdown",
   "metadata": {},
   "source": [
    "### 09) WAP to Calculate number of days between two given dates."
   ]
  },
  {
   "cell_type": "code",
   "execution_count": 58,
   "metadata": {},
   "outputs": [
    {
     "name": "stdin",
     "output_type": "stream",
     "text": [
      "Enter first date (DD-MM-YYYY):  12-02-2024\n",
      "Enter second date (DD-MM-YYYY):  15-02-2025\n"
     ]
    },
    {
     "name": "stdout",
     "output_type": "stream",
     "text": [
      "Number of days between given dates is: 369\n"
     ]
    }
   ],
   "source": [
    "import datetime\n",
    "\n",
    "date1 = input('Enter first date (DD-MM-YYYY): ')\n",
    "date2 = input('Enter second date (DD-MM-YYYY): ')\n",
    "\n",
    "d1 = datetime.datetime.strptime(date1, '%d-%m-%Y')\n",
    "d2 = datetime.datetime.strptime(date2, '%d-%m-%Y')\n",
    "\n",
    "difference = abs((d2 - d1).days)\n",
    "\n",
    "print('Number of days between given dates is:', difference)"
   ]
  },
  {
   "cell_type": "markdown",
   "metadata": {},
   "source": [
    "### 10) WAP to Find the day of the week of a given date.(i.e. wether it is sunday/monday/tuesday/etc.)"
   ]
  },
  {
   "cell_type": "code",
   "execution_count": 12,
   "metadata": {},
   "outputs": [
    {
     "name": "stdin",
     "output_type": "stream",
     "text": [
      "Enter a date1:  2/02/2025\n"
     ]
    },
    {
     "name": "stdout",
     "output_type": "stream",
     "text": [
      "2025-02-02 00:00:00\n",
      "day of the week of a given date : Sunday\n"
     ]
    }
   ],
   "source": [
    "date=input(\"Enter a date1: \")\n",
    "convert_date = datetime.datetime.strptime(date,\"%d/%m/%Y\")\n",
    "\n",
    "print(convert_date)\n",
    "d1=convert_date.strftime(\"%A\")\n",
    "print(\"day of the week of a given date :\",d1)"
   ]
  },
  {
   "cell_type": "markdown",
   "metadata": {},
   "source": [
    "### 11) WAP to demonstrate the use of date time module."
   ]
  },
  {
   "cell_type": "code",
   "execution_count": 1,
   "metadata": {},
   "outputs": [
    {
     "name": "stdout",
     "output_type": "stream",
     "text": [
      "2025-02-16 18:55:23.250809\n"
     ]
    }
   ],
   "source": [
    "import datetime\n",
    "print(datetime.datetime.today())"
   ]
  },
  {
   "cell_type": "markdown",
   "metadata": {},
   "source": [
    "### 12) WAP to demonstrate the use of the math module."
   ]
  },
  {
   "cell_type": "code",
   "execution_count": 8,
   "metadata": {},
   "outputs": [
    {
     "name": "stdout",
     "output_type": "stream",
     "text": [
      "Vlue Of Pi = 3.141592653589793\n",
      "Floor = 22\n",
      "Ceil = 23\n"
     ]
    }
   ],
   "source": [
    "import math\n",
    "print('Vlue Of Pi =',math.pi)\n",
    "print('Floor =',math.floor(22.22))\n",
    "print('Ceil =',math.ceil(22.22))"
   ]
  },
  {
   "cell_type": "code",
   "execution_count": null,
   "metadata": {},
   "outputs": [],
   "source": []
  }
 ],
 "metadata": {
  "kernelspec": {
   "display_name": "Python 3 (ipykernel)",
   "language": "python",
   "name": "python3"
  },
  "language_info": {
   "codemirror_mode": {
    "name": "ipython",
    "version": 3
   },
   "file_extension": ".py",
   "mimetype": "text/x-python",
   "name": "python",
   "nbconvert_exporter": "python",
   "pygments_lexer": "ipython3",
   "version": "3.12.7"
  }
 },
 "nbformat": 4,
 "nbformat_minor": 4
}
