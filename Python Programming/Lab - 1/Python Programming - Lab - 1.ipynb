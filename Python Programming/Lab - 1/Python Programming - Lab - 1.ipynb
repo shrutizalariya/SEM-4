{
 "cells": [
  {
   "cell_type": "markdown",
   "metadata": {},
   "source": [
    "<a href='https://www.darshan.ac.in/'> <img src='https://www.darshan.ac.in/Content/media/DU_Logo.svg' width=\"250\" height=\"10\"/></a>\n",
    "<pre>\n",
    "<center><b><h1>Python Programming - 2301CS404</b></center>\n",
    "<center><b><h1>Lab - 1</b></center>\n",
    "<center><b><h1>Shruti | 23010101311 | 25-11-2024</b></center>\n",
    "<pre>"
   ]
  },
  {
   "cell_type": "markdown",
   "metadata": {},
   "source": [
    "01) WAP to print “Hello World."
   ]
  },
  {
   "cell_type": "code",
   "execution_count": 1,
   "metadata": {},
   "outputs": [
    {
     "name": "stdout",
     "output_type": "stream",
     "text": [
      "Hello World\n"
     ]
    }
   ],
   "source": [
    "print('Hello World')"
   ]
  },
  {
   "cell_type": "markdown",
   "metadata": {},
   "source": [
    "### 02) WAP to print addition of two numbers with and without using input()."
   ]
  },
  {
   "cell_type": "code",
   "execution_count": 27,
   "metadata": {},
   "outputs": [
    {
     "name": "stdin",
     "output_type": "stream",
     "text": [
      "Enter First Number : 5\n",
      "Enter Second Number : 6\n"
     ]
    },
    {
     "name": "stdout",
     "output_type": "stream",
     "text": [
      "5 + 6 = 11\n"
     ]
    }
   ],
   "source": [
    "# With Using Input\n",
    "a = int(input('Enter First Number :'))\n",
    "b = int(input('Enter Second Number :'))\n",
    "print(a,'+',b,'=',(a+b))"
   ]
  },
  {
   "cell_type": "code",
   "execution_count": 7,
   "metadata": {},
   "outputs": [
    {
     "name": "stdout",
     "output_type": "stream",
     "text": [
      "10 + 5 = 15\n"
     ]
    }
   ],
   "source": [
    "# Without Using Input\n",
    "a = 10\n",
    "b = 5\n",
    "sum = a + b\n",
    "print(a,'+',b,'=',sum)"
   ]
  },
  {
   "cell_type": "markdown",
   "metadata": {},
   "source": [
    "### 03) WAP to check the type of the variable."
   ]
  },
  {
   "cell_type": "code",
   "execution_count": 13,
   "metadata": {},
   "outputs": [
    {
     "name": "stdout",
     "output_type": "stream",
     "text": [
      "<class 'str'>\n"
     ]
    }
   ],
   "source": [
    "a = 'Shruti'\n",
    "print(type(a))"
   ]
  },
  {
   "cell_type": "markdown",
   "metadata": {},
   "source": [
    "### 04) WAP to calculate simple interest."
   ]
  },
  {
   "cell_type": "code",
   "execution_count": 21,
   "metadata": {},
   "outputs": [
    {
     "name": "stdin",
     "output_type": "stream",
     "text": [
      "Enter P :  15\n",
      "Enter R :  10\n",
      "Enter N :  60.4\n"
     ]
    },
    {
     "name": "stdout",
     "output_type": "stream",
     "text": [
      "Simple Interest = 90.6\n"
     ]
    }
   ],
   "source": [
    "p = float(input('Enter P : '))\n",
    "r = float(input('Enter R : '))\n",
    "n = float(input('Enter N : '))\n",
    "I = (p*r*n)/100\n",
    "print('Simple Interest =',I)"
   ]
  },
  {
   "cell_type": "markdown",
   "metadata": {},
   "source": [
    "### 05) WAP to calculate area and perimeter of a circle."
   ]
  },
  {
   "cell_type": "code",
   "execution_count": 29,
   "metadata": {},
   "outputs": [
    {
     "name": "stdin",
     "output_type": "stream",
     "text": [
      "Enter a radius of a circle :  3\n"
     ]
    },
    {
     "name": "stdout",
     "output_type": "stream",
     "text": [
      "Area of a Circle = 28.259999999999998\n",
      "Perimeter of a Circle = 18.84\n"
     ]
    }
   ],
   "source": [
    "r = float(input('Enter a radius of a circle : '))\n",
    "Area = 3.14*r*r\n",
    "Perimeter = 2*3.14*r\n",
    "print('Area of a Circle =',Area)\n",
    "print('Perimeter of a Circle =',Perimeter)"
   ]
  },
  {
   "cell_type": "markdown",
   "metadata": {},
   "source": [
    "### 06) WAP to calculate area of a triangle."
   ]
  },
  {
   "cell_type": "code",
   "execution_count": 33,
   "metadata": {},
   "outputs": [
    {
     "name": "stdin",
     "output_type": "stream",
     "text": [
      "Enter height of a triangle : 4\n",
      "Enter breadth of a triangle : 9\n"
     ]
    },
    {
     "name": "stdout",
     "output_type": "stream",
     "text": [
      "Area of a Triangle = 18.0\n"
     ]
    }
   ],
   "source": [
    "h = float(input('Enter height of a triangle :'))\n",
    "b = float(input('Enter breadth of a triangle :'))\n",
    "print('Area of a Triangle =',(0.5*h*b))"
   ]
  },
  {
   "cell_type": "markdown",
   "metadata": {},
   "source": [
    "### 07) WAP to compute quotient and remainder."
   ]
  },
  {
   "cell_type": "code",
   "execution_count": 23,
   "metadata": {},
   "outputs": [
    {
     "name": "stdin",
     "output_type": "stream",
     "text": [
      "Enter num1 : 10\n",
      "Enter num2 : 2\n"
     ]
    },
    {
     "name": "stdout",
     "output_type": "stream",
     "text": [
      "Quotient = 5.0 \n",
      "Remainder = 0.0\n"
     ]
    }
   ],
   "source": [
    "num1 = float(input('Enter num1 :'))\n",
    "num2 = float(input('Enter num2 :'))\n",
    "q = num1 / num2\n",
    "r = num1 % num2\n",
    "print('Quotient =',q,'\\nRemainder =',r)"
   ]
  },
  {
   "cell_type": "markdown",
   "metadata": {},
   "source": [
    "### 08) WAP to convert degree into Fahrenheit and vice versa."
   ]
  },
  {
   "cell_type": "code",
   "execution_count": 35,
   "metadata": {},
   "outputs": [
    {
     "name": "stdin",
     "output_type": "stream",
     "text": [
      "Enter temp in celsius: 23\n",
      "Enter temp in fahrenheit: 73.4\n"
     ]
    },
    {
     "name": "stdout",
     "output_type": "stream",
     "text": [
      "73.4 Fahrenheit = 23.000000000000004 Celsius\n",
      "23.0 Celsius = 73.4 Fahrenheit\n"
     ]
    }
   ],
   "source": [
    "c = float(input('Enter temp in celsius:'))\n",
    "f = float(input('Enter temp in fahrenheit:'))\n",
    "F = c * (9/5) + 32\n",
    "C = (f - 32) * 5/9\n",
    "print(f,'Fahrenheit =',C,'Degree Celsius')\n",
    "print(c,'Degree Celsius =',F,'Fahrenheit')"
   ]
  },
  {
   "cell_type": "markdown",
   "metadata": {},
   "source": [
    "### 09) WAP to find the distance between two points in 2-D space."
   ]
  },
  {
   "cell_type": "code",
   "execution_count": 11,
   "metadata": {},
   "outputs": [
    {
     "name": "stdin",
     "output_type": "stream",
     "text": [
      "Enter x of point1 : 1\n",
      "Enter y of point1 : 2\n",
      "Enter x of point2 : 2\n",
      "Enter y of point2 : 4\n"
     ]
    },
    {
     "name": "stdout",
     "output_type": "stream",
     "text": [
      "Distance of this two points is = 2.23606797749979\n"
     ]
    }
   ],
   "source": [
    "import math\n",
    "p11 = int(input('Enter x of point1 :'))\n",
    "p12 = int(input('Enter y of point1 :'))\n",
    "p21 = int(input('Enter x of point2 :'))\n",
    "p22 = int(input('Enter y of point2 :'))\n",
    "d1 = (p12-p11)\n",
    "d2 = (p22-p21)\n",
    "dis = math.sqrt(d1*d1 + d2*d2)\n",
    "print('Distance of this two points is =',dis)"
   ]
  },
  {
   "cell_type": "markdown",
   "metadata": {},
   "source": [
    "### 10) WAP to print sum of n natural numbers."
   ]
  },
  {
   "cell_type": "code",
   "execution_count": 11,
   "metadata": {},
   "outputs": [
    {
     "name": "stdin",
     "output_type": "stream",
     "text": [
      "Enter Number : 5\n"
     ]
    },
    {
     "name": "stdout",
     "output_type": "stream",
     "text": [
      "Sum of 5 natural numbers is = 15\n"
     ]
    }
   ],
   "source": [
    "n = int(input('Enter Number :'))\n",
    "sum = 0\n",
    "for i in range(1,n+1):\n",
    "    sum = sum + i\n",
    "print('Sum of',n,'natural numbers is =',sum)"
   ]
  },
  {
   "cell_type": "markdown",
   "metadata": {},
   "source": [
    "### 11) WAP to print sum of square of n natural numbers."
   ]
  },
  {
   "cell_type": "code",
   "execution_count": 15,
   "metadata": {},
   "outputs": [
    {
     "name": "stdin",
     "output_type": "stream",
     "text": [
      "Enter Number : 4\n"
     ]
    },
    {
     "name": "stdout",
     "output_type": "stream",
     "text": [
      "Sum of square of 4 natural numbers is = 30\n"
     ]
    }
   ],
   "source": [
    "n = int(input('Enter Number :'))\n",
    "sum = 0\n",
    "for i in range(1,n+1):\n",
    "    sum = sum + (i*i)\n",
    "print('Sum of square of',n,'natural numbers is =',sum)"
   ]
  },
  {
   "cell_type": "markdown",
   "metadata": {},
   "source": [
    "### 12) WAP to concate the first and last name of the student."
   ]
  },
  {
   "cell_type": "code",
   "execution_count": 41,
   "metadata": {},
   "outputs": [
    {
     "name": "stdin",
     "output_type": "stream",
     "text": [
      "Enter the first name of the student : Zalariya\n",
      "Enter the last name of the student : Shruti\n"
     ]
    },
    {
     "name": "stdout",
     "output_type": "stream",
     "text": [
      "Student Name =  Zalariya Shruti\n"
     ]
    }
   ],
   "source": [
    "F = input('Enter the first name of the student :')\n",
    "L = input('Enter the last name of the student :')\n",
    "Name = F + ' ' + L\n",
    "print('Student Name = ',Name)"
   ]
  },
  {
   "cell_type": "code",
   "execution_count": 49,
   "metadata": {},
   "outputs": [
    {
     "name": "stdin",
     "output_type": "stream",
     "text": [
      "Enter the first name of the student : Ambani\n",
      "Enter the last name of the student : Shruti\n"
     ]
    },
    {
     "name": "stdout",
     "output_type": "stream",
     "text": [
      "Student Name : Ambani Shruti\n"
     ]
    }
   ],
   "source": [
    "F = input('Enter the first name of the student :')\n",
    "L = input('Enter the last name of the student :')\n",
    "print('Student Name :',F,L)"
   ]
  },
  {
   "cell_type": "markdown",
   "metadata": {},
   "source": [
    "### 13) WAP to swap two numbers."
   ]
  },
  {
   "cell_type": "code",
   "execution_count": 53,
   "metadata": {},
   "outputs": [
    {
     "name": "stdin",
     "output_type": "stream",
     "text": [
      "Enter first number : 5\n",
      "Enter second number : 10\n"
     ]
    },
    {
     "name": "stdout",
     "output_type": "stream",
     "text": [
      "Before Swap!\n",
      "a = 5  b = 10\n",
      "After Swap!\n",
      "a = 10  b = 5\n"
     ]
    }
   ],
   "source": [
    "a = int(input('Enter first number :'))\n",
    "b = int(input('Enter second number :'))\n",
    "print('Before Swap!')\n",
    "print('a =',a,' b =',b)\n",
    "a = a + b\n",
    "b = a - b\n",
    "a = a - b\n",
    "print('After Swap!')\n",
    "print('a =',a,' b =',b)"
   ]
  },
  {
   "cell_type": "markdown",
   "metadata": {},
   "source": [
    "### 14) WAP to get the distance from user into kilometer, and convert it into meter, feet, inches and centimeter."
   ]
  },
  {
   "cell_type": "code",
   "execution_count": 17,
   "metadata": {},
   "outputs": [
    {
     "name": "stdin",
     "output_type": "stream",
     "text": [
      "Enter distance into kilometer : 10\n"
     ]
    },
    {
     "name": "stdout",
     "output_type": "stream",
     "text": [
      "10.0 km = 10000.0 meters\n",
      "10.0 km = 32808.4 feets\n",
      "10.0 km = 393701.0 inches\n",
      "10.0 km = 1000000.0 centimeters\n"
     ]
    }
   ],
   "source": [
    "d = float(input('Enter distance into kilometer :'))\n",
    "m = 1000*d\n",
    "f = 3280.84*d\n",
    "i = 39370.1*d\n",
    "cm = 100000*d\n",
    "print(d,'km =',m,'meters')\n",
    "print(d,'km =',f,'feets')\n",
    "print(d,'km =',i,'inches')\n",
    "print(d,'km =',cm,'centimeters')"
   ]
  },
  {
   "cell_type": "markdown",
   "metadata": {},
   "source": [
    "### 15) WAP to get day, month and year from the user and print the date in the given format: 23-11-2024."
   ]
  },
  {
   "cell_type": "code",
   "execution_count": 61,
   "metadata": {},
   "outputs": [
    {
     "name": "stdin",
     "output_type": "stream",
     "text": [
      "Enter the day : 23\n",
      "Enter the month : 11\n",
      "Enter the year : 2024\n"
     ]
    },
    {
     "name": "stdout",
     "output_type": "stream",
     "text": [
      "Date : 23-11-2024\n"
     ]
    }
   ],
   "source": [
    "D = input('Enter the day :')\n",
    "M = input('Enter the month :')\n",
    "Y = input('Enter the year :')\n",
    "Date = D + '-' + M + '-' + Y\n",
    "print('Date :',Date)"
   ]
  },
  {
   "cell_type": "code",
   "execution_count": null,
   "metadata": {},
   "outputs": [],
   "source": []
  }
 ],
 "metadata": {
  "kernelspec": {
   "display_name": "Python 3 (ipykernel)",
   "language": "python",
   "name": "python3"
  },
  "language_info": {
   "codemirror_mode": {
    "name": "ipython",
    "version": 3
   },
   "file_extension": ".py",
   "mimetype": "text/x-python",
   "name": "python",
   "nbconvert_exporter": "python",
   "pygments_lexer": "ipython3",
   "version": "3.12.7"
  },
  "vscode": {
   "interpreter": {
    "hash": "31f2aee4e71d21fbe5cf8b01ff0e069b9275f58929596ceb00d14d90e3e16cd6"
   }
  }
 },
 "nbformat": 4,
 "nbformat_minor": 4
}
