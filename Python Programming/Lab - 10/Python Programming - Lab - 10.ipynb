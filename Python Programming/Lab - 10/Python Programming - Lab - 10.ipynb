{
 "cells": [
  {
   "cell_type": "markdown",
   "metadata": {},
   "source": [
    "<a href='https://www.darshan.ac.in/'> <img src='https://www.darshan.ac.in/Content/media/DU_Logo.svg' width=\"250\" height=\"300\"/></a>\n",
    "<pre>\n",
    "<center><b><h1>Python Programming - 2301CS404</b></center>\n",
    "<center><b><h1>Lab - 10</b></center> \n",
    "<center><b><h1>Shruti | 23010101311 | 03-02-2025</b></center> \n",
    "<pre>"
   ]
  },
  {
   "cell_type": "markdown",
   "metadata": {},
   "source": [
    "# Exception Handling"
   ]
  },
  {
   "cell_type": "markdown",
   "metadata": {},
   "source": [
    "### 01) WAP to handle following exceptions:\n",
    "1. ZeroDivisionError\n",
    "2. ValueError\n",
    "3. TypeError\n",
    "#### Note: handle them using separate except blocks and also using single except block too."
   ]
  },
  {
   "cell_type": "code",
   "execution_count": 6,
   "metadata": {},
   "outputs": [
    {
     "name": "stdin",
     "output_type": "stream",
     "text": [
      "Enter a : 10\n",
      "Enter b : a\n"
     ]
    },
    {
     "name": "stdout",
     "output_type": "stream",
     "text": [
      "ValueError Occured!\n"
     ]
    }
   ],
   "source": [
    "try:\n",
    "    a = int(input('Enter a :'))\n",
    "    b = int(input('Enter b :'))\n",
    "    ans = a//b\n",
    "    print('Answer =',ans)\n",
    "    print(a + 'b')\n",
    "except ZeroDivisionError:\n",
    "    print('ZeroDivisionError Occured!')\n",
    "except ValueError:\n",
    "    print('ValueError Occured!')\n",
    "except TypeError:\n",
    "    print('TypeError Occured!')"
   ]
  },
  {
   "cell_type": "code",
   "execution_count": 27,
   "metadata": {},
   "outputs": [
    {
     "name": "stdin",
     "output_type": "stream",
     "text": [
      "Enter a : 10\n",
      "Enter b : 2\n"
     ]
    },
    {
     "name": "stdout",
     "output_type": "stream",
     "text": [
      "Answer = 5\n",
      "unsupported operand type(s) for +: 'int' and 'str'\n"
     ]
    }
   ],
   "source": [
    "try:\n",
    "    a = int(input('Enter a :'))\n",
    "    b = int(input('Enter b :'))\n",
    "    ans = a//b\n",
    "    print('Answer =',ans)\n",
    "    print(a + 'b')\n",
    "except (ZeroDivisionError,ValueError,TypeError) as Error:\n",
    "    print(Error)"
   ]
  },
  {
   "cell_type": "markdown",
   "metadata": {},
   "source": [
    "### 02)  WAP to handle following exceptions:\n",
    "1. IndexError\n",
    "2. KeyError"
   ]
  },
  {
   "cell_type": "code",
   "execution_count": 37,
   "metadata": {},
   "outputs": [
    {
     "name": "stdout",
     "output_type": "stream",
     "text": [
      "li[4] = 5\n",
      "IndexError Occured!\n"
     ]
    }
   ],
   "source": [
    "li = [1 ,2 ,3 ,4 ,5]\n",
    "try:\n",
    "    print('li[4] =',li[4])\n",
    "    print(li[7])\n",
    "except IndexError:\n",
    "    print('IndexError Occured!')"
   ]
  },
  {
   "cell_type": "code",
   "execution_count": 51,
   "metadata": {},
   "outputs": [
    {
     "name": "stdout",
     "output_type": "stream",
     "text": [
      "d1[3] = c\n",
      "KeyError Occured! : 5\n"
     ]
    }
   ],
   "source": [
    "d1 = {1:'a' ,2:'b' ,3:'c'}\n",
    "try:\n",
    "    print('d1[3] =',d1[3])\n",
    "    print(d1[5])\n",
    "except KeyError as err:\n",
    "    print('KeyError Occured! :',err)#When keyerror occurs it will print the key passed in input"
   ]
  },
  {
   "cell_type": "markdown",
   "metadata": {},
   "source": [
    "### 03) WAP to handle following exceptions:\n",
    "1. FileNotFoundError\n",
    "2. ModuleNotFoundError"
   ]
  },
  {
   "cell_type": "code",
   "execution_count": 57,
   "metadata": {},
   "outputs": [
    {
     "name": "stdout",
     "output_type": "stream",
     "text": [
      "FileNotFoundError : [Errno 2] No such file or directory: 'abcd.txt'\n"
     ]
    }
   ],
   "source": [
    "try:\n",
    "    fp = open(\"abcd.txt\",\"r\")\n",
    "    print(fp.read())\n",
    "except FileNotFoundError as msg:\n",
    "    print('FileNotFoundError :',msg)"
   ]
  },
  {
   "cell_type": "code",
   "execution_count": 60,
   "metadata": {},
   "outputs": [
    {
     "name": "stdout",
     "output_type": "stream",
     "text": [
      "ModuleNotFoundError : No module named 'maths'\n"
     ]
    }
   ],
   "source": [
    "try:\n",
    "    import maths\n",
    "except ModuleNotFoundError as msg:\n",
    "    print('ModuleNotFoundError :',msg)"
   ]
  },
  {
   "cell_type": "markdown",
   "metadata": {},
   "source": [
    "### 04) WAP that catches all type of exceptions in a single except block."
   ]
  },
  {
   "cell_type": "code",
   "execution_count": 86,
   "metadata": {},
   "outputs": [
    {
     "name": "stdin",
     "output_type": "stream",
     "text": [
      "Enter a : 10\n",
      "Enter b : asdfg\n"
     ]
    },
    {
     "name": "stdout",
     "output_type": "stream",
     "text": [
      "unsupported operand type(s) for +: 'int' and 'str'\n"
     ]
    }
   ],
   "source": [
    "try:\n",
    "    a = int(input('Enter a :'))\n",
    "    b = input('Enter b :')\n",
    "    #ans = a//b\n",
    "    #print('Answer =',ans)\n",
    "    print(a + 'b')\n",
    "    #print(b[5])\n",
    "    print(c)\n",
    "except (ZeroDivisionError,TypeError,ValueError,NameError,IndexError) as err:\n",
    "    print(err)"
   ]
  },
  {
   "cell_type": "markdown",
   "metadata": {},
   "source": [
    "### 05) WAP to demonstrate else  and finally block."
   ]
  },
  {
   "cell_type": "code",
   "execution_count": 92,
   "metadata": {},
   "outputs": [
    {
     "name": "stdout",
     "output_type": "stream",
     "text": [
      "hello\n",
      "This block is always executes!\n"
     ]
    }
   ],
   "source": [
    "try:\n",
    "    fp = open('abc.txt','r')\n",
    "except FileNotFoundError as err:\n",
    "    print(err)\n",
    "else:\n",
    "    print(fp.read())\n",
    "    fp.close()\n",
    "finally:\n",
    "    print('This block is always executes!')"
   ]
  },
  {
   "cell_type": "markdown",
   "metadata": {},
   "source": [
    "### 06) Create a short program that prompts the user for a list of grades separated by commas. \n",
    "### Split the string into individual grades and use a list comprehension to convert each string to an integer. \n",
    "### You should use a try statement to inform the user when the values they entered cannot be converted."
   ]
  },
  {
   "cell_type": "code",
   "execution_count": 142,
   "metadata": {},
   "outputs": [
    {
     "name": "stdin",
     "output_type": "stream",
     "text": [
      "Enter string with comma separated : a,b,c,d\n"
     ]
    },
    {
     "name": "stdout",
     "output_type": "stream",
     "text": [
      "ValueError : invalid literal for int() with base 10: 'a'\n"
     ]
    }
   ],
   "source": [
    "try:\n",
    "    grade = input('Enter string with comma separated :')\n",
    "    li = [int(i) for i in grade.split(',')]\n",
    "    print(li)\n",
    "except ValueError as msg:\n",
    "    print('ValueError :',msg)"
   ]
  },
  {
   "cell_type": "markdown",
   "metadata": {},
   "source": [
    "### 07) WAP to create an udf divide(a,b) that handles ZeroDivisionError."
   ]
  },
  {
   "cell_type": "code",
   "execution_count": 98,
   "metadata": {},
   "outputs": [
    {
     "name": "stdout",
     "output_type": "stream",
     "text": [
      "Division : 5\n",
      "ZeroDivisionError : integer division or modulo by zero\n"
     ]
    }
   ],
   "source": [
    "def divide(a,b):\n",
    "    try:\n",
    "        print('Division :',a//b)\n",
    "    except ZeroDivisionError as err:\n",
    "        print('ZeroDivisionError :',err)\n",
    "\n",
    "divide(10,2)\n",
    "divide(10,0)"
   ]
  },
  {
   "cell_type": "markdown",
   "metadata": {},
   "source": [
    "### 08) WAP that gets an age of a person form the user and raises ValueError with error message: \"Enter Valid Age\" :\n",
    "#### If the age is less than 18. \n",
    "#### otherwise print the age."
   ]
  },
  {
   "cell_type": "code",
   "execution_count": 118,
   "metadata": {},
   "outputs": [
    {
     "name": "stdin",
     "output_type": "stream",
     "text": [
      "Enter Age : 17\n"
     ]
    },
    {
     "name": "stdout",
     "output_type": "stream",
     "text": [
      "Enter Valid Age!\n"
     ]
    }
   ],
   "source": [
    "try:\n",
    "    age = int(input('Enter Age :'))\n",
    "    if age<18:\n",
    "        #print('Enter Valid Age!')\n",
    "        raise ValueError ('Enter Valid Age!')\n",
    "    else:\n",
    "        print(age)\n",
    "except ValueError as err:\n",
    "    print(err)"
   ]
  },
  {
   "cell_type": "markdown",
   "metadata": {},
   "source": [
    "### 09) WAP to raise your custom Exception named InvalidUsernameError with the error message : \"Username must be between 5 and 15 characters long\":\n",
    "#### if the given name is having characters less than 5 or greater than 15.\n",
    "#### otherwise print the given username."
   ]
  },
  {
   "cell_type": "code",
   "execution_count": 128,
   "metadata": {},
   "outputs": [
    {
     "name": "stdin",
     "output_type": "stream",
     "text": [
      "Enter Username : qwertyuioplkjhgfdsa\n"
     ]
    },
    {
     "name": "stdout",
     "output_type": "stream",
     "text": [
      "Username must be between 5 and 15 characters long!\n"
     ]
    }
   ],
   "source": [
    "class InvalidUsernameError(Exception):\n",
    "    pass\n",
    "try:\n",
    "    Name = input('Enter Username :')\n",
    "    if (len(Name)-1)<5 or (len(Name)-1)>15:\n",
    "        raise InvalidUsernameError\n",
    "    else:\n",
    "        print('Usename =',Name)\n",
    "except InvalidUsernameError:\n",
    "    print('Username must be between 5 and 15 characters long!')"
   ]
  },
  {
   "cell_type": "markdown",
   "metadata": {},
   "source": [
    "### 10) WAP to raise your custom Exception named NegativeNumberError with the error message : \"Cannot calculate the square root of a negative number\" :\n",
    "#### if the given number is negative.\n",
    "#### otherwise print the square root of the given number."
   ]
  },
  {
   "cell_type": "code",
   "execution_count": 136,
   "metadata": {},
   "outputs": [
    {
     "name": "stdin",
     "output_type": "stream",
     "text": [
      "Enter num : -4\n"
     ]
    },
    {
     "name": "stdout",
     "output_type": "stream",
     "text": [
      "Cannot calculate the square root of a negative number!\n"
     ]
    }
   ],
   "source": [
    "import math\n",
    "class NegativeNumberError(Exception):\n",
    "    def __init__(self,msg):\n",
    "        self.msg = msg\n",
    "try:\n",
    "    a = int(input('Enter num :'))\n",
    "    if a<0:\n",
    "        raise NegativeNumberError('Cannot calculate the square root of a negative number!')\n",
    "    else:\n",
    "        print('Sqrt of',a,'=',math.sqrt(a))\n",
    "except NegativeNumberError as error:\n",
    "    print(error)"
   ]
  },
  {
   "cell_type": "code",
   "execution_count": null,
   "metadata": {},
   "outputs": [],
   "source": []
  }
 ],
 "metadata": {
  "kernelspec": {
   "display_name": "Python 3 (ipykernel)",
   "language": "python",
   "name": "python3"
  },
  "language_info": {
   "codemirror_mode": {
    "name": "ipython",
    "version": 3
   },
   "file_extension": ".py",
   "mimetype": "text/x-python",
   "name": "python",
   "nbconvert_exporter": "python",
   "pygments_lexer": "ipython3",
   "version": "3.12.7"
  }
 },
 "nbformat": 4,
 "nbformat_minor": 4
}
