{
 "cells": [
  {
   "cell_type": "markdown",
   "metadata": {},
   "source": [
    "\n",
    "<a href='https://www.darshan.ac.in/'> <img src='https://www.darshan.ac.in/Content/media/DU_Logo.svg' width=\"250\" height=\"300\"/></a>\n",
    "<pre>\n",
    "<center><b><h1>Python Programming - 2301CS404</b></center>\n",
    "<center><b><h1>Lab - 2</b></center>    \n",
    "<pre>"
   ]
  },
  {
   "cell_type": "markdown",
   "metadata": {},
   "source": [
    "# if..else.."
   ]
  },
  {
   "cell_type": "markdown",
   "metadata": {},
   "source": [
    "### 01) WAP to check whether the given number is positive or negative."
   ]
  },
  {
   "cell_type": "code",
   "execution_count": 5,
   "metadata": {},
   "outputs": [
    {
     "name": "stdin",
     "output_type": "stream",
     "text": [
      "Enter a number :  5\n"
     ]
    },
    {
     "name": "stdout",
     "output_type": "stream",
     "text": [
      "5 is positive.\n"
     ]
    }
   ],
   "source": [
    "a = int(input('Enter a number : '))\n",
    "\n",
    "if(a>0):\n",
    "    print(a ,'is positive.')\n",
    "else:\n",
    "    print(a ,'is negative')"
   ]
  },
  {
   "cell_type": "markdown",
   "metadata": {},
   "source": [
    "### 02) WAP to check whether the given number is odd or even."
   ]
  },
  {
   "cell_type": "code",
   "execution_count": 7,
   "metadata": {},
   "outputs": [
    {
     "name": "stdin",
     "output_type": "stream",
     "text": [
      "Enter a number :  10\n"
     ]
    },
    {
     "name": "stdout",
     "output_type": "stream",
     "text": [
      "10 is Even.\n"
     ]
    }
   ],
   "source": [
    "a = int (input('Enter a number : '))\n",
    "\n",
    "if(a%2 == 0):\n",
    "    print(a ,'is Even.')\n",
    "else:\n",
    "    print(a ,'is Odd.')"
   ]
  },
  {
   "cell_type": "markdown",
   "metadata": {},
   "source": [
    "### 03) WAP to find out largest number from given two numbers using simple if and ternary operator."
   ]
  },
  {
   "cell_type": "code",
   "execution_count": 9,
   "metadata": {},
   "outputs": [
    {
     "name": "stdin",
     "output_type": "stream",
     "text": [
      "Enter a number :  5\n",
      "Enter a number :  10\n"
     ]
    },
    {
     "name": "stdout",
     "output_type": "stream",
     "text": [
      "10 is Largest number.\n"
     ]
    }
   ],
   "source": [
    "# Simple If\n",
    "\n",
    "a = int (input('Enter a number : '))\n",
    "b = int (input('Enter a number : '))\n",
    "\n",
    "if(a>b):\n",
    "    print(a ,'is Largest number.')\n",
    "else:\n",
    "    print(b ,'is Largest number.')"
   ]
  },
  {
   "cell_type": "code",
   "execution_count": 11,
   "metadata": {},
   "outputs": [
    {
     "name": "stdin",
     "output_type": "stream",
     "text": [
      "Enter a number :  5\n",
      "Enter a number :  3\n"
     ]
    },
    {
     "name": "stdout",
     "output_type": "stream",
     "text": [
      "5 is largest number.\n"
     ]
    }
   ],
   "source": [
    "# Ternary Operator\n",
    "\n",
    "a = int (input('Enter a number : '))\n",
    "b = int (input('Enter a number : '))\n",
    "\n",
    "print(a , 'is largest number.') if(a>b) else print(b , 'is largest number.')"
   ]
  },
  {
   "cell_type": "markdown",
   "metadata": {},
   "source": [
    "### 04) WAP to find out largest number from given three numbers."
   ]
  },
  {
   "cell_type": "code",
   "execution_count": 15,
   "metadata": {},
   "outputs": [
    {
     "name": "stdin",
     "output_type": "stream",
     "text": [
      "Enter a first number a :  10\n",
      "Enter a second number b :  13\n",
      "Enter a third number c :  4\n"
     ]
    },
    {
     "name": "stdout",
     "output_type": "stream",
     "text": [
      "13 is Largest number.\n"
     ]
    }
   ],
   "source": [
    "# Simple If_elseif\n",
    "\n",
    "a = int (input('Enter a first number a : '))\n",
    "b = int (input('Enter a second number b : '))\n",
    "c = int (input('Enter a third number c : '))\n",
    "\n",
    "if(a>b):\n",
    "    if(a>c):\n",
    "        print(a ,'is Largest number.')\n",
    "    else:\n",
    "        print(c ,'is Largest number.')\n",
    "else:\n",
    "    if(b>c):\n",
    "        print(b ,'is Largest number.')\n",
    "    else:\n",
    "        print(c ,'is Largest number.')"
   ]
  },
  {
   "cell_type": "code",
   "execution_count": 21,
   "metadata": {},
   "outputs": [
    {
     "name": "stdin",
     "output_type": "stream",
     "text": [
      "Enter a first number a :  12\n",
      "Enter a second number b :  13\n",
      "Enter a third number c :  15\n"
     ]
    },
    {
     "name": "stdout",
     "output_type": "stream",
     "text": [
      "15 is Largest number.\n"
     ]
    }
   ],
   "source": [
    "# Ternary Operator\n",
    "\n",
    "a = int (input('Enter a first number a : '))\n",
    "b = int (input('Enter a second number b : '))\n",
    "c = int (input('Enter a third number c : '))\n",
    "\n",
    "print(a,'is Largest number.') if a>b and a>c else print(b,'is Largest number.') if b>c else print(c,'is Largest number.')"
   ]
  },
  {
   "cell_type": "markdown",
   "metadata": {},
   "source": [
    "### 05) WAP to check whether the given year is leap year or not.\n",
    "[If a year can be divisible by 4 but not divisible by 100 then it is leap year but if it is divisible by 400 then it is leap year]"
   ]
  },
  {
   "cell_type": "code",
   "execution_count": 23,
   "metadata": {},
   "outputs": [
    {
     "name": "stdin",
     "output_type": "stream",
     "text": [
      "Enter a Year :  2024\n"
     ]
    },
    {
     "name": "stdout",
     "output_type": "stream",
     "text": [
      "2024 is Leap Year.\n"
     ]
    }
   ],
   "source": [
    "a = int (input('Enter a Year : '))\n",
    "\n",
    "if(a%4==0):\n",
    "    if(a%100!=0):\n",
    "        print(a ,'is Leap Year.')\n",
    "    else:\n",
    "        print(a ,'is not Leap Year.')\n",
    "elif(a%400==0):\n",
    "    print(a ,'is Leap Year.')\n",
    "else:\n",
    "    print(a ,'is not Leap Year.')"
   ]
  },
  {
   "cell_type": "markdown",
   "metadata": {},
   "source": [
    "### 06) WAP in python to display the name of the day according to the number given by the user."
   ]
  },
  {
   "cell_type": "code",
   "execution_count": 25,
   "metadata": {},
   "outputs": [
    {
     "name": "stdin",
     "output_type": "stream",
     "text": [
      "Enter a number between 0 to 6 :  2\n"
     ]
    },
    {
     "name": "stdout",
     "output_type": "stream",
     "text": [
      "Tuesday\n"
     ]
    }
   ],
   "source": [
    "#Simple elif\n",
    "d = int(input('Enter a number between 0 to 6 : '))\n",
    "\n",
    "if(d==0):\n",
    "    print('Sunday')\n",
    "elif(d==1):\n",
    "    print('Monday')\n",
    "elif(d==2):\n",
    "    print('Tuesday')\n",
    "elif(d==3):\n",
    "    print('Wednesday')\n",
    "elif(d==4):\n",
    "    print('Thursday')\n",
    "elif(d==5):\n",
    "    print('Friday')\n",
    "elif(d==6):\n",
    "    print('Saturday')\n",
    "else:\n",
    "    print('Please Enter A valid Number')"
   ]
  },
  {
   "cell_type": "code",
   "execution_count": 27,
   "metadata": {},
   "outputs": [
    {
     "name": "stdin",
     "output_type": "stream",
     "text": [
      "Enter a number between 0 to 6 :  3\n"
     ]
    },
    {
     "name": "stdout",
     "output_type": "stream",
     "text": [
      "Wednesday\n"
     ]
    }
   ],
   "source": [
    "# Match case\n",
    "d = int(input('Enter a number between 0 to 6 : '))\n",
    "\n",
    "match d:\n",
    "    case 0:\n",
    "        print('Sunday')\n",
    "    case 1:\n",
    "        print('Monday')\n",
    "    case 2:\n",
    "        print('Tuesday')\n",
    "    case 3:\n",
    "        print('Wednesday')\n",
    "    case 4:\n",
    "        print('Thursday')\n",
    "    case 5:\n",
    "        print('Friday')\n",
    "    case 6:\n",
    "        print('Saturday')\n",
    "    case _:\n",
    "        print('Please Enter A valid Number')"
   ]
  },
  {
   "cell_type": "code",
   "execution_count": 29,
   "metadata": {},
   "outputs": [
    {
     "name": "stdin",
     "output_type": "stream",
     "text": [
      "Enter a number :  15\n"
     ]
    },
    {
     "name": "stdout",
     "output_type": "stream",
     "text": [
      "Monday\n"
     ]
    }
   ],
   "source": [
    "#Simple elif\n",
    "d = int(input('Enter a number : '))\n",
    "\n",
    "if(d%7==0):\n",
    "    print('Sunday')\n",
    "elif(d%7==1):\n",
    "    print('Monday')\n",
    "elif(d%7==2):\n",
    "    print('Tuesday')\n",
    "elif(d%7==3):\n",
    "    print('Wednesday')\n",
    "elif(d%7==4):\n",
    "    print('Thursday')\n",
    "elif(d%7==5):\n",
    "    print('Friday')\n",
    "elif(d%7==6):\n",
    "    print('Saturday')\n",
    "else:\n",
    "    print('Please Enter A valid Number')"
   ]
  },
  {
   "cell_type": "markdown",
   "metadata": {},
   "source": [
    "### 07) WAP to implement simple calculator which performs (add,sub,mul,div) of two no. based on user input."
   ]
  },
  {
   "cell_type": "code",
   "execution_count": 37,
   "metadata": {},
   "outputs": [
    {
     "name": "stdin",
     "output_type": "stream",
     "text": [
      "Enter a first number a :  6\n",
      "Enter a second number b :  3\n",
      "Enter 1 for Addition , Enter 2 for Subtraction , Enter 3 for Multiplication , Enter 4 for Division : 4\n"
     ]
    },
    {
     "name": "stdout",
     "output_type": "stream",
     "text": [
      "6 / 3 = 2.0\n"
     ]
    }
   ],
   "source": [
    "a = int (input('Enter a first number a : '))\n",
    "b = int (input('Enter a second number b : '))\n",
    "c = int (input('Enter 1 for Addition , Enter 2 for Subtraction , Enter 3 for Multiplication , Enter 4 for Division :'))\n",
    "       \n",
    "if(c==1):\n",
    "    print(a,'+',b,'=', a+b)\n",
    "elif(c==2):\n",
    "    print(a,'-',b,'=', a-b)\n",
    "elif(c==3):\n",
    "    print(a,'*',b,'=', a*b)\n",
    "elif(c==4):\n",
    "    print(a,'/',b,'=', a/b)\n",
    "else:\n",
    "    print('Please enter valid operator')"
   ]
  },
  {
   "cell_type": "markdown",
   "metadata": {},
   "source": [
    "### 08) WAP to read marks of five subjects. Calculate percentage and print class accordingly. \n",
    "Fail below 35 </br>\n",
    "Pass Class between 35 to 45 </br>\n",
    "Second Class</br>\n",
    "between 45 to 60</br>\n",
    "First Class between 60 to 70</br> \n",
    "Distinction if more than 70"
   ]
  },
  {
   "cell_type": "code",
   "execution_count": 41,
   "metadata": {},
   "outputs": [
    {
     "name": "stdin",
     "output_type": "stream",
     "text": [
      "Enter a first number a :  50\n",
      "Enter a second number b :  100\n",
      "Enter a third number c :  50\n",
      "Enter a fourth number d :  50\n",
      "Enter a fifth number e :  50\n"
     ]
    },
    {
     "name": "stdout",
     "output_type": "stream",
     "text": [
      "Total marks =  300\n",
      "Percentage =  60.0\n",
      "First Class\n"
     ]
    }
   ],
   "source": [
    "a = int (input('Enter a first number a : '))\n",
    "b = int (input('Enter a second number b : '))\n",
    "c = int (input('Enter a third number c : '))\n",
    "d = int (input('Enter a fourth number d : '))\n",
    "e = int (input('Enter a fifth number e : '))\n",
    "Total = a+b+c+d+e\n",
    "print ('Total marks = ' , Total)\n",
    "Percentage = (Total*100)/500\n",
    "print ('Percentage = ' , Percentage)\n",
    "\n",
    "if(Percentage>70):\n",
    "    print('Distinction')\n",
    "elif(Percentage>=60):\n",
    "    if(Percentage<=70):\n",
    "        print('First Class')\n",
    "elif(Percentage>=45):\n",
    "    if(Percentage<60):\n",
    "        print('Second Class')\n",
    "elif(Percentage>=35 or Percentage<45):\n",
    "    print('Pass') \n",
    "if(Percentage<35):\n",
    "    print('Fail')"
   ]
  },
  {
   "cell_type": "markdown",
   "metadata": {},
   "source": [
    "### 09) Three sides of a triangle are entered through the keyboard, WAP to check whether the triangle is isosceles, equilateral, scalene or right-angled triangle."
   ]
  },
  {
   "cell_type": "code",
   "execution_count": 43,
   "metadata": {},
   "outputs": [
    {
     "name": "stdin",
     "output_type": "stream",
     "text": [
      "Enter the first side:  5\n",
      "Enter the second side:  6\n",
      "Enter the third side:  7\n"
     ]
    },
    {
     "name": "stdout",
     "output_type": "stream",
     "text": [
      "The triangle is Scalene.\n"
     ]
    }
   ],
   "source": [
    "a = float(input(\"Enter the first side: \"))\n",
    "b = float(input(\"Enter the second side: \"))\n",
    "c = float(input(\"Enter the third side: \"))\n",
    "\n",
    "if a + b > c and b + c > a and a + c > b:\n",
    "    # Check for equilateral triangle\n",
    "    if a == b == c:\n",
    "        print(\"The triangle is Equilateral.\")\n",
    "    # Check for isosceles triangle\n",
    "    elif a == b or b == c or a == c:\n",
    "        print(\"The triangle is Isosceles.\")\n",
    "    # Check for right-angled triangle using Pythagoras theorem\n",
    "    elif a**2 + b**2 == c**2 or b**2 + c**2 == a**2 or a**2 + c**2 == b**2:\n",
    "        print(\"The triangle is Right-Angled.\")\n",
    "    # If none of the above, it's a scalene triangle\n",
    "    else:\n",
    "        print(\"The triangle is Scalene.\")\n",
    "else:\n",
    "    print(\"The sides do not form a valid triangle.\")"
   ]
  },
  {
   "cell_type": "markdown",
   "metadata": {},
   "source": [
    "### 10) WAP to find the second largest number among three user input numbers."
   ]
  },
  {
   "cell_type": "code",
   "execution_count": 45,
   "metadata": {},
   "outputs": [
    {
     "name": "stdin",
     "output_type": "stream",
     "text": [
      "Enter the first number:  5\n",
      "Enter the second number:  4\n",
      "Enter the third number:  9\n"
     ]
    },
    {
     "name": "stdout",
     "output_type": "stream",
     "text": [
      "The second largest number is: 5.0\n"
     ]
    }
   ],
   "source": [
    "num1 = float(input(\"Enter the first number: \"))\n",
    "num2 = float(input(\"Enter the second number: \"))\n",
    "num3 = float(input(\"Enter the third number: \"))\n",
    "\n",
    "if (num1 >= num2 and num1 <= num3) or (num1 <= num2 and num1 >= num3):\n",
    "    second_largest = num1\n",
    "elif (num2 >= num1 and num2 <= num3) or (num2 <= num1 and num2 >= num3):\n",
    "    second_largest = num2\n",
    "else:\n",
    "    second_largest = num3\n",
    "\n",
    "print(\"The second largest number is:\", second_largest)"
   ]
  },
  {
   "cell_type": "markdown",
   "metadata": {},
   "source": [
    "### 11) WAP to calculate electricity bill based on following criteria. Which takes the unit from the user.\n",
    "a. First 1 to 50 units – Rs. 2.60/unit</br>\n",
    "b. Next 50 to 100 units – Rs. 3.25/unit</br>\n",
    "c. Next 100 to 200 units – Rs. 5.26/unit</br>\n",
    "d. above 200 units – Rs. 8.45/unit"
   ]
  },
  {
   "cell_type": "code",
   "execution_count": 47,
   "metadata": {},
   "outputs": [
    {
     "name": "stdin",
     "output_type": "stream",
     "text": [
      "Enter the number of units consumed:  55\n"
     ]
    },
    {
     "name": "stdout",
     "output_type": "stream",
     "text": [
      "The total electricity bill is: Rs. 143.0\n"
     ]
    }
   ],
   "source": [
    "units = float(input(\"Enter the number of units consumed: \"))\n",
    "\n",
    "if units>0 or units <= 50:\n",
    "    bill = units * 2.60\n",
    "elif units <= 100:\n",
    "    bill = (50 * 2.60) + (units - 50) * 3.25\n",
    "elif units <= 200:\n",
    "    bill = (50 * 2.60) + (50 * 3.25) + (units - 100) * 5.26\n",
    "else:\n",
    "    bill = (50 * 2.60) + (50 * 3.25) + (100 * 5.26) + (units - 200) * 8.45\n",
    "\n",
    "print(\"The total electricity bill is: Rs.\",bill)"
   ]
  },
  {
   "cell_type": "code",
   "execution_count": null,
   "metadata": {},
   "outputs": [],
   "source": []
  }
 ],
 "metadata": {
  "kernelspec": {
   "display_name": "Python 3 (ipykernel)",
   "language": "python",
   "name": "python3"
  },
  "language_info": {
   "codemirror_mode": {
    "name": "ipython",
    "version": 3
   },
   "file_extension": ".py",
   "mimetype": "text/x-python",
   "name": "python",
   "nbconvert_exporter": "python",
   "pygments_lexer": "ipython3",
   "version": "3.12.7"
  }
 },
 "nbformat": 4,
 "nbformat_minor": 4
}
