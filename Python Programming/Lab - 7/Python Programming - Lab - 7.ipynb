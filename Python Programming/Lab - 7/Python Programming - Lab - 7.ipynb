{
 "cells": [
  {
   "cell_type": "markdown",
   "metadata": {},
   "source": [
    "<a href='https://www.darshan.ac.in/'> <img src='https://www.darshan.ac.in/Content/media/DU_Logo.svg' width=\"250\" height=\"300\"/></a>\n",
    "<pre>\n",
    "<center><b><h1>Python Programming - 2301CS404</b></center>\n",
    "<center><b><h1>Lab - 7</b></center>   \n",
    "<center><b><h1>Shruti | 23010101311 | 06-01-2025</b></center>  \n",
    "<pre>"
   ]
  },
  {
   "cell_type": "markdown",
   "metadata": {},
   "source": [
    "# Set & Dictionary"
   ]
  },
  {
   "cell_type": "markdown",
   "metadata": {},
   "source": [
    "### 01) WAP to iterate over a set."
   ]
  },
  {
   "cell_type": "code",
   "execution_count": 6,
   "metadata": {},
   "outputs": [
    {
     "name": "stdout",
     "output_type": "stream",
     "text": [
      "1\n",
      "2\n",
      "3\n",
      "4\n",
      "5\n"
     ]
    }
   ],
   "source": [
    "s1 = {1,2,3,4,5}\n",
    "for i in s1:\n",
    "    print(i)"
   ]
  },
  {
   "cell_type": "markdown",
   "metadata": {},
   "source": [
    "### 02) WAP to convert set into list, string and tuple."
   ]
  },
  {
   "cell_type": "code",
   "execution_count": 16,
   "metadata": {},
   "outputs": [
    {
     "name": "stdout",
     "output_type": "stream",
     "text": [
      "Set : {1, 2, 3, 4, 5}\n",
      "List : [1, 2, 3, 4, 5]\n",
      "<class 'list'>\n",
      "String : {1, 2, 3, 4, 5}\n",
      "<class 'str'>\n",
      "Tuple : (1, 2, 3, 4, 5)\n",
      "<class 'tuple'>\n"
     ]
    }
   ],
   "source": [
    "s1 = {1,2,3,4,5}\n",
    "print('Set :',s1)\n",
    "l1 = list(s1)\n",
    "print('List :',l1)\n",
    "print(type(l1))\n",
    "s = str(s1)\n",
    "print('String :',s)\n",
    "print(type(s))\n",
    "t1 = tuple(s1)\n",
    "print('Tuple :',t1)\n",
    "print(type(t1))"
   ]
  },
  {
   "cell_type": "markdown",
   "metadata": {},
   "source": [
    "### 03) WAP to find Maximum and Minimum from a set."
   ]
  },
  {
   "cell_type": "code",
   "execution_count": 24,
   "metadata": {},
   "outputs": [
    {
     "name": "stdout",
     "output_type": "stream",
     "text": [
      "Maximum num : 5\n",
      "Minimum num : 0\n"
     ]
    }
   ],
   "source": [
    "s1 = {0,1,2,3,4,5}\n",
    "max = i\n",
    "min = i\n",
    "for i in s1:\n",
    "        if i < min:\n",
    "            min = i\n",
    "        if i > max:\n",
    "            max = i\n",
    "print('Maximum num :',max)\n",
    "print('Minimum num :',min)"
   ]
  },
  {
   "cell_type": "markdown",
   "metadata": {},
   "source": [
    "### 04) WAP to perform union of two sets."
   ]
  },
  {
   "cell_type": "code",
   "execution_count": 32,
   "metadata": {},
   "outputs": [
    {
     "data": {
      "text/plain": [
       "{0, 1, 2, 3, 4, 5, 6, 7, 8, 9}"
      ]
     },
     "execution_count": 32,
     "metadata": {},
     "output_type": "execute_result"
    }
   ],
   "source": [
    "s1 = {0,1,2,3,4}\n",
    "s2 = {5,6,7,8,9}\n",
    "s1.union(s2)\n",
    "#{0,1,2,3,4}.union({5,6,7,8,9})"
   ]
  },
  {
   "cell_type": "markdown",
   "metadata": {},
   "source": [
    "### 05) WAP to check if two lists have at-least one element common."
   ]
  },
  {
   "cell_type": "code",
   "execution_count": 42,
   "metadata": {},
   "outputs": [
    {
     "name": "stdout",
     "output_type": "stream",
     "text": [
      "Yes, two lists have 3 common elements.\n"
     ]
    }
   ],
   "source": [
    "l1 = [1,2,3,4,5]\n",
    "l2 = [6,7,8,5,4,2,9]\n",
    "count = 0\n",
    "for i in l1:\n",
    "    if i in l2:\n",
    "        count+=1\n",
    "if count!=0:\n",
    "    print('Yes, two lists have',count,'common elements.')\n",
    "else:\n",
    "    print('No, two lists have not common elements.')    "
   ]
  },
  {
   "cell_type": "markdown",
   "metadata": {},
   "source": [
    "### 06) WAP to remove duplicates from list."
   ]
  },
  {
   "cell_type": "code",
   "execution_count": 48,
   "metadata": {},
   "outputs": [
    {
     "name": "stdout",
     "output_type": "stream",
     "text": [
      "[1, 2, 6, 7, 8, 9]\n"
     ]
    }
   ],
   "source": [
    "l1 = [1,2,1,2,6,7,8,9]\n",
    "l2 = []\n",
    "for i in l1:\n",
    "    if i not in l2:\n",
    "        l2.append(i)\n",
    "print(l2)"
   ]
  },
  {
   "cell_type": "code",
   "execution_count": 50,
   "metadata": {},
   "outputs": [
    {
     "data": {
      "text/plain": [
       "[1, 2, 6, 7, 8, 9]"
      ]
     },
     "execution_count": 50,
     "metadata": {},
     "output_type": "execute_result"
    }
   ],
   "source": [
    "l1 = [1,2,1,2,6,7,8,9]\n",
    "l1 = list(set(l1))\n",
    "l1"
   ]
  },
  {
   "cell_type": "markdown",
   "metadata": {},
   "source": [
    "### 07) WAP to find unique words in the given string."
   ]
  },
  {
   "cell_type": "code",
   "execution_count": 139,
   "metadata": {},
   "outputs": [
    {
     "name": "stdin",
     "output_type": "stream",
     "text": [
      "Enter String : hi hello how hi are are\n"
     ]
    },
    {
     "name": "stdout",
     "output_type": "stream",
     "text": [
      "{'hi', 'are', 'hello', 'how'}\n"
     ]
    }
   ],
   "source": [
    "str = input('Enter String :')\n",
    "str1 = set(str.split(' '))\n",
    "print(str1)"
   ]
  },
  {
   "cell_type": "markdown",
   "metadata": {},
   "source": [
    "### 08) WAP to remove common elements of set A & B from set A."
   ]
  },
  {
   "cell_type": "code",
   "execution_count": 87,
   "metadata": {},
   "outputs": [
    {
     "data": {
      "text/plain": [
       "{1, 2, 3}"
      ]
     },
     "execution_count": 87,
     "metadata": {},
     "output_type": "execute_result"
    }
   ],
   "source": [
    "a = {1,2,3,4,5}\n",
    "b = {4,5,6,7,8}\n",
    "a.difference(b)"
   ]
  },
  {
   "cell_type": "markdown",
   "metadata": {},
   "source": [
    "### 09) WAP to check whether two given strings are anagram or not using set."
   ]
  },
  {
   "cell_type": "code",
   "execution_count": 23,
   "metadata": {},
   "outputs": [
    {
     "name": "stdout",
     "output_type": "stream",
     "text": [
      "Given string is not anagram!\n"
     ]
    }
   ],
   "source": [
    "s1 = 'shruti'\n",
    "s2 = 'hruitss'\n",
    "st1 = set(s1)\n",
    "st2 = set(s2)\n",
    "for i in st1:\n",
    "    if i not in st2 or len(s1)!=len(s2):\n",
    "        print('Given string is not anagram!')\n",
    "        break\n",
    "else:\n",
    "    print('Given string is anagram!')"
   ]
  },
  {
   "cell_type": "markdown",
   "metadata": {},
   "source": [
    "### 10) WAP to find common elements in three lists using set."
   ]
  },
  {
   "cell_type": "code",
   "execution_count": 101,
   "metadata": {},
   "outputs": [
    {
     "data": {
      "text/plain": [
       "{2}"
      ]
     },
     "execution_count": 101,
     "metadata": {},
     "output_type": "execute_result"
    }
   ],
   "source": [
    "l1 = [1,2,3]\n",
    "l2 = [2,4,5]\n",
    "l3 = [3,2,5]\n",
    "s1 = set(l1)\n",
    "s2 = set(l2)\n",
    "s3 = set(l3)\n",
    "s1 & s2 & s3"
   ]
  },
  {
   "cell_type": "markdown",
   "metadata": {},
   "source": [
    "### 11) WAP to count number of vowels in given string using set."
   ]
  },
  {
   "cell_type": "code",
   "execution_count": 105,
   "metadata": {},
   "outputs": [
    {
     "name": "stdin",
     "output_type": "stream",
     "text": [
      "Enter String: how are yOu\n"
     ]
    },
    {
     "name": "stdout",
     "output_type": "stream",
     "text": [
      "Num of vowels in given string = 5\n"
     ]
    }
   ],
   "source": [
    "str = input('Enter String:')\n",
    "s1 = {'a','e','i','o','u','A','E','I','O','U'}\n",
    "count = 0\n",
    "for i in str:\n",
    "    if i in s1:\n",
    "        count+=1\n",
    "print('Num of vowels in given string =',count)  "
   ]
  },
  {
   "cell_type": "markdown",
   "metadata": {},
   "source": [
    "### 12) WAP to check if a given string is binary string or not."
   ]
  },
  {
   "cell_type": "code",
   "execution_count": 125,
   "metadata": {},
   "outputs": [
    {
     "name": "stdin",
     "output_type": "stream",
     "text": [
      "Enter String: 0101\n"
     ]
    },
    {
     "name": "stdout",
     "output_type": "stream",
     "text": [
      "Given string is Binary!\n"
     ]
    }
   ],
   "source": [
    "str = input('Enter String:')\n",
    "count = 0\n",
    "for i in str:\n",
    "    if i=='0' or i=='1':\n",
    "        count+=1\n",
    "if len(str)==count:\n",
    "    print('Given string is Binary!')\n",
    "else:\n",
    "     print('Given string is not Binary!')"
   ]
  },
  {
   "cell_type": "code",
   "execution_count": 133,
   "metadata": {},
   "outputs": [
    {
     "name": "stdin",
     "output_type": "stream",
     "text": [
      "Enter String: 123654\n"
     ]
    },
    {
     "name": "stdout",
     "output_type": "stream",
     "text": [
      "Given string is not Binary!\n"
     ]
    }
   ],
   "source": [
    "str = input('Enter String:')\n",
    "s1 = {'0','1'}\n",
    "for i in str:\n",
    "    if i not in s1:\n",
    "        print('Given string is not Binary!')\n",
    "        break\n",
    "else:\n",
    "    print('Given string is Binary!')     "
   ]
  },
  {
   "cell_type": "markdown",
   "metadata": {},
   "source": [
    "### 13) WAP to sort dictionary by key or value."
   ]
  },
  {
   "cell_type": "code",
   "execution_count": 45,
   "metadata": {},
   "outputs": [
    {
     "name": "stdout",
     "output_type": "stream",
     "text": [
      "Sorted by key: [101, 102, 103]\n",
      "Sorted by value: ['Nandu', 'Riya', 'Shruti']\n",
      "Sorted by item: [(101, 'Riya'), (102, 'Shruti'), (103, 'Nandu')]\n"
     ]
    }
   ],
   "source": [
    "d1 = {102:'Shruti',101:'Riya',103:'Nandu'}\n",
    "#sort by key\n",
    "d2 = list(d1)\n",
    "d2.sort()\n",
    "print('Sorted by key:',d2)\n",
    "\n",
    "#sort by value\n",
    "d3 = list(d1.values())\n",
    "d3.sort()\n",
    "print('Sorted by value:',d3)\n",
    "\n",
    "#sort by items(key:value)\n",
    "d4 = list(d1.items())\n",
    "d4.sort()\n",
    "print('Sorted by item:',d4)"
   ]
  },
  {
   "cell_type": "markdown",
   "metadata": {},
   "source": [
    "### 14) WAP to find the sum of all items (values) in a dictionary given by user. (Assume: values are numeric)"
   ]
  },
  {
   "cell_type": "code",
   "execution_count": 1,
   "metadata": {},
   "outputs": [
    {
     "name": "stdout",
     "output_type": "stream",
     "text": [
      "Sum of values od dictionary = 1500\n"
     ]
    }
   ],
   "source": [
    "dict = {'a':100 ,'b':200 ,'c':300 ,'d':400 ,'e':500}\n",
    "sum = 0\n",
    "for i in dict:\n",
    "    sum = sum + dict[i]\n",
    "print('Sum of values od dictionary =',sum)"
   ]
  },
  {
   "cell_type": "markdown",
   "metadata": {},
   "source": [
    "### 15) WAP to handle missing keys in dictionaries.\n",
    "#### Example : Given, dict1 = {'a': 5, 'c': 8, 'e': 2} \n",
    "#### if you look for key = 'd', the message given should be 'Key Not Found', otherwise print the value of 'd' in dict1."
   ]
  },
  {
   "cell_type": "code",
   "execution_count": 5,
   "metadata": {},
   "outputs": [
    {
     "name": "stdin",
     "output_type": "stream",
     "text": [
      "Enter Key : f\n"
     ]
    },
    {
     "name": "stdout",
     "output_type": "stream",
     "text": [
      "Key Not Found!\n"
     ]
    }
   ],
   "source": [
    "dict =  {'a':100 ,'b':200 ,'g':300 ,'d':400 ,'e':500}\n",
    "key = input('Enter Key :')\n",
    "if key in dict:\n",
    "    print(dict[key])\n",
    "else:\n",
    "    print('Key Not Found!')"
   ]
  },
  {
   "cell_type": "code",
   "execution_count": null,
   "metadata": {},
   "outputs": [],
   "source": []
  }
 ],
 "metadata": {
  "kernelspec": {
   "display_name": "Python 3 (ipykernel)",
   "language": "python",
   "name": "python3"
  },
  "language_info": {
   "codemirror_mode": {
    "name": "ipython",
    "version": 3
   },
   "file_extension": ".py",
   "mimetype": "text/x-python",
   "name": "python",
   "nbconvert_exporter": "python",
   "pygments_lexer": "ipython3",
   "version": "3.12.7"
  }
 },
 "nbformat": 4,
 "nbformat_minor": 4
}
