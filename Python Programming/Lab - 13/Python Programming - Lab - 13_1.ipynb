{
 "cells": [
  {
   "cell_type": "markdown",
   "metadata": {},
   "source": [
    "<a href='https://www.darshan.ac.in/'> <img src='https://www.darshan.ac.in/Content/media/DU_Logo.svg' width=\"250\" height=\"300\"/></a>\n",
    "<pre>\n",
    "<center><b><h1>Python Programming - 2301CS404</b></center>\n",
    "<center><b><h1>Lab - 13</b></center>  \n",
    "<center><b><h1>Shruti | 23010101311 | 03-03-2025</b></center>  \n",
    "<pre>"
   ]
  },
  {
   "cell_type": "markdown",
   "metadata": {},
   "source": [
    "# OOP"
   ]
  },
  {
   "cell_type": "markdown",
   "metadata": {},
   "source": [
    "### 01) Write a Program to create a class by name Students, and initialize attributes like name, age, and grade while creating an object."
   ]
  },
  {
   "cell_type": "code",
   "execution_count": 9,
   "metadata": {},
   "outputs": [
    {
     "name": "stdout",
     "output_type": "stream",
     "text": [
      "Name : Shruti\n",
      "Age : 19\n",
      "Grade : A++\n"
     ]
    }
   ],
   "source": [
    "class Students:\n",
    "    def __init__(self,name,age,grade):\n",
    "        self.Name = name\n",
    "        self.Age = age\n",
    "        self.Grade = grade\n",
    "        \n",
    "s1 = Students('Shruti',19,'A++')\n",
    "print(\"Name :\",s1.Name)\n",
    "print(\"Age :\",s1.Age)\n",
    "print(\"Grade :\",s1.Grade)"
   ]
  },
  {
   "cell_type": "markdown",
   "metadata": {},
   "source": [
    "### 02) Create a class named Bank_Account with Account_No, User_Name, Email,Account_Type and Account_Balance data members. Also create a method GetAccountDetails() and DisplayAccountDetails(). Create main method to demonstrate the Bank_Account class."
   ]
  },
  {
   "cell_type": "code",
   "execution_count": 13,
   "metadata": {},
   "outputs": [
    {
     "name": "stdout",
     "output_type": "stream",
     "text": [
      "Account_No : 123654987\n",
      "User_Name : Shruti\n",
      "Email : shruti@gmail.com\n",
      "Account_Type : valid\n",
      "Account_Balance : 20000000\n"
     ]
    }
   ],
   "source": [
    "class Bank_Account:\n",
    "    Account_No = ''\n",
    "    User_Name = ''\n",
    "    Email = ''\n",
    "    Account_Type = ''\n",
    "    Account_Balance = 0\n",
    "    def GetAccountDetails(self,Account_No,User_Name,Email,Account_Type,Account_Balance):\n",
    "        self.Account_No = Account_No\n",
    "        self.User_Name = User_Name\n",
    "        self.Email = Email\n",
    "        self.Account_Type = Account_Type\n",
    "        self.Account_Balance = Account_Balance\n",
    "\n",
    "    def DisplayAccountDetails(self):\n",
    "        print(\"Account_No :\",self.Account_No)\n",
    "        print(\"User_Name :\",self.User_Name)\n",
    "        print(\"Email :\",self.Email)\n",
    "        print(\"Account_Type :\",self.Account_Type)\n",
    "        print(\"Account_Balance :\",self.Account_Balance)\n",
    "\n",
    "#This is for main method \n",
    "if __name__ == '__main__':\n",
    "    Bn = Bank_Account()\n",
    "    Bn.GetAccountDetails('123654987','Shruti','shruti@gmail.com','valid',20000000)\n",
    "    Bn.DisplayAccountDetails()"
   ]
  },
  {
   "cell_type": "markdown",
   "metadata": {},
   "source": [
    "### 03) WAP to create Circle class with area and perimeter function to find area and perimeter of circle."
   ]
  },
  {
   "cell_type": "code",
   "execution_count": 32,
   "metadata": {},
   "outputs": [
    {
     "name": "stdout",
     "output_type": "stream",
     "text": [
      "Area of circle = 452.3893421169302\n",
      "Perimeter of circle = 75.39822368615503\n"
     ]
    }
   ],
   "source": [
    "import math\n",
    "class Circle:\n",
    "    def __init__(self,r):\n",
    "        self.Radius = r\n",
    "\n",
    "    def Area(self):\n",
    "        area = math.pi*self.Radius*self.Radius\n",
    "        print(\"Area of circle =\",area)\n",
    "\n",
    "    def Perimeter(self):\n",
    "        peri = 2*math.pi*self.Radius\n",
    "        print(\"Perimeter of circle =\",peri)\n",
    "\n",
    "c = Circle(12)\n",
    "c.Area()\n",
    "c.Perimeter()"
   ]
  },
  {
   "cell_type": "markdown",
   "metadata": {},
   "source": [
    "### 04) Create a class for employees that includes attributes such as name, age, salary, and methods to update and display employee information."
   ]
  },
  {
   "cell_type": "code",
   "execution_count": 1,
   "metadata": {},
   "outputs": [
    {
     "name": "stdout",
     "output_type": "stream",
     "text": [
      "Name: Alice, Age: 30, Salary: 50000\n",
      "\n",
      "update information......\n",
      "\n",
      "Name: Alice, Age: 31, Salary: 55000\n"
     ]
    }
   ],
   "source": [
    "class Employee:\n",
    "    def __init__(self, name, age, salary):\n",
    "        self.name = name\n",
    "        self.age = age\n",
    "        self.salary = salary\n",
    "    \n",
    "    def update_info(self, name=None, age=None, salary=None):\n",
    "        if name:\n",
    "            self.name = name\n",
    "        if age:\n",
    "            self.age = age\n",
    "        if salary:\n",
    "            self.salary = salary\n",
    "    \n",
    "    def display_info(self):\n",
    "        return f\"Name: {self.name}, Age: {self.age}, Salary: {self.salary}\"\n",
    "\n",
    "# Example usage\n",
    "emp1 = Employee(\"Alice\", 30, 50000)\n",
    "print(emp1.display_info())  # Output: Name: Alice, Age: 30, Salary: $50000\n",
    "\n",
    "print(\"\\nupdate information......\\n\")\n",
    "emp1.update_info(age=31, salary=55000)\n",
    "print(emp1.display_info())  # Output: Name: Alice, Age: 31, Salary: $55000\n"
   ]
  },
  {
   "cell_type": "markdown",
   "metadata": {},
   "source": [
    "### 05) Create a bank account class with methods to deposit, withdraw, and check balance."
   ]
  },
  {
   "cell_type": "code",
   "execution_count": 58,
   "metadata": {},
   "outputs": [
    {
     "name": "stdout",
     "output_type": "stream",
     "text": [
      "After Deposit Balance = 21200\n",
      "After Withdraw Balance = 18800\n",
      "Account Balance = 20000\n"
     ]
    }
   ],
   "source": [
    "class Account:\n",
    "    Balance = 0\n",
    "\n",
    "    def Deposit(self,Balance,Money):\n",
    "        self.Balance = Balance\n",
    "        Balance += Money\n",
    "        print(\"After Deposit Balance =\",Balance)\n",
    "\n",
    "    def Withdraw(self,Balance,Money):\n",
    "        self.Balance = Balance\n",
    "        Balance -= Money\n",
    "        print(\"After Withdraw Balance =\",Balance)\n",
    "        \n",
    "    def CheckBalance(self):\n",
    "        print(\"Account Balance =\",self.Balance)\n",
    "\n",
    "a = Account()\n",
    "a.Deposit(20000,1200)\n",
    "a.Withdraw(20000,1200)\n",
    "a.CheckBalance()"
   ]
  },
  {
   "cell_type": "code",
   "execution_count": 114,
   "metadata": {},
   "outputs": [
    {
     "name": "stdout",
     "output_type": "stream",
     "text": [
      "After Deposit Balance = 21200\n",
      "After Withdraw Balance = 20000\n",
      "Account Balance = 20000\n"
     ]
    }
   ],
   "source": [
    "class Account:\n",
    "    def __init__ (self,current_balance,money):\n",
    "        self.current_balance = current_balance\n",
    "        self.money = money\n",
    "\n",
    "    def Deposit(self):\n",
    "        self.current_balance += self.money\n",
    "        print(\"After Deposit Balance =\",self.current_balance)\n",
    "\n",
    "    def Withdraw(self):\n",
    "        if (self.current_balance>=self.money):\n",
    "            self.current_balance -= self.money\n",
    "        print(\"After Withdraw Balance =\",self.current_balance)\n",
    "        \n",
    "    def CheckBalance(self):\n",
    "        print(\"Account Balance =\",self.current_balance)\n",
    "\n",
    "a = Account(20000,1200)\n",
    "a.Deposit()\n",
    "a.Withdraw()\n",
    "a.CheckBalance()"
   ]
  },
  {
   "cell_type": "markdown",
   "metadata": {},
   "source": [
    "### 06) Create a class for managing inventory that includes attributes such as item name, price, quantity, and methods to add, remove, and update items."
   ]
  },
  {
   "cell_type": "code",
   "execution_count": 6,
   "metadata": {},
   "outputs": [
    {
     "name": "stdin",
     "output_type": "stream",
     "text": [
      "Enter your items name:  Iphone\n",
      "Enter item price : 2000000\n",
      "Enter a quantity of your item: 2\n"
     ]
    },
    {
     "name": "stdout",
     "output_type": "stream",
     "text": [
      "\n",
      " after add data...\n",
      "\n",
      "Item name is : Iphone\n",
      "Item price is : 2000000.0\n",
      "Item quantity is :  2\n",
      "\n",
      " after update Items........\n",
      "\n",
      "Item name is : laptop\n",
      "Item price is : 1000000\n",
      "Item quantity is :  2\n",
      "\n",
      " after delete Items........\n",
      "\n",
      "Item name is : None\n",
      "Item price is : None\n",
      "Item quantity is :  None\n"
     ]
    }
   ],
   "source": [
    "class Managing_inventory:\n",
    "    def _init_ (self):\n",
    "        pass\n",
    "\n",
    "    def AddItems(self):\n",
    "        self.name = input(\"Enter your items name: \")\n",
    "        self.price = float(input(\"Enter item price :\"))\n",
    "        self.quantity = int(input(\"Enter a quantity of your item:\"))\n",
    "\n",
    "    def DisplayItem(self):\n",
    "        print(\"Item name is :\",self.name)\n",
    "        print(\"Item price is :\",self.price)\n",
    "        print(\"Item quantity is : \",self.quantity)\n",
    "\n",
    "    def  UpdateItem(self,name=None,price=None,quantity=None):\n",
    "        if name:\n",
    "            self.name = name\n",
    "        if price:\n",
    "            self.price = price\n",
    "        if quantity:\n",
    "            self.quantity = quantity\n",
    "\n",
    "    def DeleteItem(self):\n",
    "        self.name = None\n",
    "        self.price = None\n",
    "        self.quantity = None\n",
    "\n",
    "items = Managing_inventory()\n",
    "items.AddItems()\n",
    "\n",
    "print(\"\\n after add data...\\n\")\n",
    "items.DisplayItem()\n",
    "\n",
    "print(\"\\n after update Items........\\n\")\n",
    "items.UpdateItem(name='laptop' , price =1000000)\n",
    "items.DisplayItem()\n",
    "\n",
    "print(\"\\n after delete Items........\\n\")\n",
    "items.DeleteItem()\n",
    "items.DisplayItem()"
   ]
  },
  {
   "cell_type": "markdown",
   "metadata": {},
   "source": [
    "### 07) Create a Class with instance attributes of your choice."
   ]
  },
  {
   "cell_type": "code",
   "execution_count": 62,
   "metadata": {},
   "outputs": [
    {
     "name": "stdout",
     "output_type": "stream",
     "text": [
      "Name : Shruti\n",
      "Age : 18\n",
      "SPI : 9.42\n"
     ]
    }
   ],
   "source": [
    "class Students:\n",
    "    def __init__ (self,name,age,spi):\n",
    "        self.name = name\n",
    "        self.age = age\n",
    "        self.spi = spi\n",
    "\n",
    "s1 = Students('Shruti',18,'9.42')\n",
    "print('Name :',s1.name)\n",
    "print('Age :',s1.age)\n",
    "print('SPI :',s1.spi)"
   ]
  },
  {
   "cell_type": "markdown",
   "metadata": {},
   "source": [
    "### 08) Create one class student_kit\n",
    "#### Within the student_kit class create one class attribute principal name ( Mr ABC )\n",
    "#### Create one attendance method and take input as number of days.\n",
    "#### While creating student take input their name .\n",
    "#### Create one certificate for each student by taking input of number of days present in class."
   ]
  },
  {
   "cell_type": "code",
   "execution_count": 3,
   "metadata": {},
   "outputs": [
    {
     "name": "stdout",
     "output_type": "stream",
     "text": [
      "Certificate of Attendance\n",
      "This is to certify that John Doe has attended 25 days of class.\n",
      "Principal: Mr. ABC\n"
     ]
    }
   ],
   "source": [
    "class Student_kit:\n",
    "    principal_name = \"Mr. ABC\"\n",
    "    \n",
    "    def __init__(self, name):\n",
    "        self.name = name\n",
    "        self.attendance_days = 0\n",
    "    \n",
    "    def attendance(self, days):\n",
    "        self.attendance_days = days\n",
    "    \n",
    "    def generate_certificate(self):\n",
    "        return (f\"Certificate of Attendance\\n\"\n",
    "                f\"This is to certify that {self.name} has attended {self.attendance_days} days of class.\\n\"\n",
    "                f\"Principal: {self.principal_name}\")\n",
    "        \n",
    "# Example usage\n",
    "student1 = Student_kit(\"John Doe\")\n",
    "student1.attendance(25)\n",
    "print(student1.generate_certificate())"
   ]
  },
  {
   "cell_type": "markdown",
   "metadata": {},
   "source": [
    "### 09) Define Time class with hour and minute as data member. Also define addition method to add two time objects."
   ]
  },
  {
   "cell_type": "code",
   "execution_count": 106,
   "metadata": {},
   "outputs": [
    {
     "name": "stdout",
     "output_type": "stream",
     "text": [
      "4 hours 20 minutes\n"
     ]
    }
   ],
   "source": [
    "class Time:\n",
    "    def __init__(self, hour, minute):\n",
    "        self.hour = hour\n",
    "        self.minute = minute\n",
    "    \n",
    "    def add(self, other):\n",
    "        total_minutes = self.minute + other.minute\n",
    "        extra_hours = total_minutes // 60\n",
    "        minutes = total_minutes % 60\n",
    "        hours = self.hour + other.hour + extra_hours\n",
    "        return Time(hours, minutes)\n",
    "    \n",
    "    def display(self):\n",
    "        print(f\"{self.hour} hours {self.minute} minutes\")\n",
    "\n",
    "time1 = Time(2, 50)\n",
    "time2 = Time(1, 30)\n",
    "time3 = time1.add(time2)\n",
    "time3.display() "
   ]
  },
  {
   "cell_type": "code",
   "execution_count": null,
   "metadata": {},
   "outputs": [],
   "source": []
  }
 ],
 "metadata": {
  "kernelspec": {
   "display_name": "Python 3 (ipykernel)",
   "language": "python",
   "name": "python3"
  },
  "language_info": {
   "codemirror_mode": {
    "name": "ipython",
    "version": 3
   },
   "file_extension": ".py",
   "mimetype": "text/x-python",
   "name": "python",
   "nbconvert_exporter": "python",
   "pygments_lexer": "ipython3",
   "version": "3.12.7"
  }
 },
 "nbformat": 4,
 "nbformat_minor": 4
}
