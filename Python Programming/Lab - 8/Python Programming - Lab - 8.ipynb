{
 "cells": [
  {
   "cell_type": "markdown",
   "metadata": {},
   "source": [
    "<a href='https://www.darshan.ac.in/'> <img src='https://www.darshan.ac.in/Content/media/DU_Logo.svg' width=\"250\" height=\"300\"/></a>\n",
    "<pre>\n",
    "<center><b><h1>Python Programming - 2301CS404</b></center>\n",
    "<center><b><h1>Lab - 8</b></center>   \n",
    "<center><b><h1>Shruti | 23010101311 |14-01-2025</b></center> \n",
    "<pre>"
   ]
  },
  {
   "cell_type": "markdown",
   "metadata": {},
   "source": [
    "# User Defined Function"
   ]
  },
  {
   "cell_type": "markdown",
   "metadata": {},
   "source": [
    "### 01) Write a function to calculate BMI given mass and height. (BMI = mass/h**2)"
   ]
  },
  {
   "cell_type": "code",
   "execution_count": 3,
   "metadata": {},
   "outputs": [
    {
     "name": "stdin",
     "output_type": "stream",
     "text": [
      "Enter mass: 5\n",
      "Enter height: 4\n"
     ]
    },
    {
     "name": "stdout",
     "output_type": "stream",
     "text": [
      "BMI = 0.3125\n"
     ]
    }
   ],
   "source": [
    "mass = int(input('Enter mass:'))\n",
    "height = int(input('Enter height:'))\n",
    "def calBMI(mass,height):\n",
    "    BMI = mass/height**2\n",
    "    print('BMI =',BMI)\n",
    "\n",
    "calBMI(mass,height)"
   ]
  },
  {
   "cell_type": "markdown",
   "metadata": {},
   "source": [
    "### 02) Write a function that add first n numbers."
   ]
  },
  {
   "cell_type": "code",
   "execution_count": 15,
   "metadata": {},
   "outputs": [
    {
     "name": "stdin",
     "output_type": "stream",
     "text": [
      "Enter num : 5\n"
     ]
    },
    {
     "name": "stdout",
     "output_type": "stream",
     "text": [
      "Sum = 15\n"
     ]
    }
   ],
   "source": [
    "n = int(input('Enter num :'))\n",
    "def addNnumber(n):\n",
    "    sum = 0\n",
    "    for i in range(n+1):\n",
    "        sum = sum + i\n",
    "    print('Sum =',sum)\n",
    "    \n",
    "addNnumber(n)"
   ]
  },
  {
   "cell_type": "markdown",
   "metadata": {},
   "source": [
    "### 03) Write a function that returns 1 if the given number is Prime or 0 otherwise."
   ]
  },
  {
   "cell_type": "code",
   "execution_count": 57,
   "metadata": {},
   "outputs": [
    {
     "name": "stdin",
     "output_type": "stream",
     "text": [
      "Enter number : 4\n"
     ]
    },
    {
     "data": {
      "text/plain": [
       "0"
      ]
     },
     "execution_count": 57,
     "metadata": {},
     "output_type": "execute_result"
    }
   ],
   "source": [
    "n = int(input('Enter number :'))\n",
    "def primeOrNot(n):\n",
    "    count = 0\n",
    "    for i in range(2,(n//2)+1):\n",
    "        if n%i==0:\n",
    "            count+=1\n",
    "    if count==0:\n",
    "        return 1\n",
    "    else:\n",
    "        return 0\n",
    "\n",
    "primeOrNot(n)"
   ]
  },
  {
   "cell_type": "markdown",
   "metadata": {},
   "source": [
    "### 04) Write a function that returns the list of Prime numbers between given two numbers."
   ]
  },
  {
   "cell_type": "code",
   "execution_count": 69,
   "metadata": {},
   "outputs": [
    {
     "name": "stdin",
     "output_type": "stream",
     "text": [
      "Enter strting number : 1\n",
      "Enter ending number : 10\n"
     ]
    },
    {
     "name": "stdout",
     "output_type": "stream",
     "text": [
      "1\n",
      "2\n",
      "3\n",
      "5\n",
      "7\n"
     ]
    }
   ],
   "source": [
    "n = int(input('Enter strting number :'))\n",
    "m = int(input('Enter ending number :'))\n",
    "def primeInRange(n,m):\n",
    "    for j in range(n,m+1):\n",
    "        count = 0\n",
    "        for i in range(2,(j//2)+1):\n",
    "            if j%i==0:\n",
    "                count+=1\n",
    "                break\n",
    "        if count==0:\n",
    "            print(j)\n",
    "primeInRange(n,m)"
   ]
  },
  {
   "cell_type": "code",
   "execution_count": 73,
   "metadata": {},
   "outputs": [
    {
     "name": "stdin",
     "output_type": "stream",
     "text": [
      "Enter strting number : 1\n",
      "Enter ending number : 10\n"
     ]
    },
    {
     "name": "stdout",
     "output_type": "stream",
     "text": [
      "1\n",
      "2\n",
      "3\n",
      "5\n",
      "7\n"
     ]
    }
   ],
   "source": [
    "n = int(input('Enter strting number :'))\n",
    "m = int(input('Enter ending number :'))\n",
    "def primeOrNot(n):\n",
    "    count = 0\n",
    "    for i in range(2,(n//2)+1):\n",
    "        if n%i==0:\n",
    "            count+=1\n",
    "    if count==0:\n",
    "        return 1\n",
    "    else:\n",
    "        return 0\n",
    "def Prime(n,m):\n",
    "    for i in range(n,m+1):\n",
    "        if primeOrNot(i)==1:\n",
    "            print(i)\n",
    "\n",
    "Prime(n,m)"
   ]
  },
  {
   "cell_type": "markdown",
   "metadata": {},
   "source": [
    "### 05) Write a function that returns True if the given string is Palindrome or False otherwise."
   ]
  },
  {
   "cell_type": "code",
   "execution_count": 77,
   "metadata": {},
   "outputs": [
    {
     "name": "stdin",
     "output_type": "stream",
     "text": [
      "Enter String : abcd\n"
     ]
    },
    {
     "data": {
      "text/plain": [
       "False"
      ]
     },
     "execution_count": 77,
     "metadata": {},
     "output_type": "execute_result"
    }
   ],
   "source": [
    "str = input('Enter String :')\n",
    "def palindromOrNot(str):\n",
    "    if str == str[::-1]:\n",
    "        return True\n",
    "    else:\n",
    "        return False\n",
    "\n",
    "palindromOrNot(str)"
   ]
  },
  {
   "cell_type": "markdown",
   "metadata": {},
   "source": [
    "### 06) Write a function that returns the sum of all the elements of the list."
   ]
  },
  {
   "cell_type": "code",
   "execution_count": 81,
   "metadata": {},
   "outputs": [
    {
     "name": "stdout",
     "output_type": "stream",
     "text": [
      "Sum = 15\n"
     ]
    }
   ],
   "source": [
    "l1 = [1 ,2 ,3 ,4 ,5]\n",
    "def sumOfList(l1):\n",
    "    sum = 0\n",
    "    for i in l1:\n",
    "        sum = sum + i\n",
    "    print('Sum =',sum)\n",
    "\n",
    "sumOfList(l1)"
   ]
  },
  {
   "cell_type": "markdown",
   "metadata": {},
   "source": [
    "### 07) Write a function to calculate the sum of the first element of each tuples inside the list."
   ]
  },
  {
   "cell_type": "code",
   "execution_count": 83,
   "metadata": {},
   "outputs": [
    {
     "name": "stdout",
     "output_type": "stream",
     "text": [
      "Sum = 10\n"
     ]
    }
   ],
   "source": [
    "l1 = [(1,2,3),(2,3),(3,4),(4,5,6)]\n",
    "def Sum(l1):\n",
    "    sum = 0\n",
    "    for i in l1:\n",
    "        sum = sum + i[0]\n",
    "    print('Sum =',sum)\n",
    "\n",
    "Sum(l1)"
   ]
  },
  {
   "cell_type": "markdown",
   "metadata": {},
   "source": [
    "### 08) Write a recursive function to find nth term of Fibonacci Series."
   ]
  },
  {
   "cell_type": "code",
   "execution_count": 21,
   "metadata": {},
   "outputs": [
    {
     "name": "stdin",
     "output_type": "stream",
     "text": [
      "Enter the term number : 7\n"
     ]
    },
    {
     "name": "stdout",
     "output_type": "stream",
     "text": [
      "The 7th term of the Fibonacci series is : 13\n"
     ]
    }
   ],
   "source": [
    "# Input nth term\n",
    "n = int(input(\"Enter the term number :\"))\n",
    "def fibonacci(n):\n",
    "    if n <= 1:\n",
    "        return n\n",
    "    else:\n",
    "        return fibonacci(n-1) + fibonacci(n-2)\n",
    "\n",
    "print(f\"The {n}th term of the Fibonacci series is : {fibonacci(n)}\")"
   ]
  },
  {
   "cell_type": "markdown",
   "metadata": {},
   "source": [
    "##### 09) Write a function to get the name of the student based on the given rollno.\n",
    "#### Example: Given dict1 = {101:'Ajay', 102:'Rahul', 103:'Jay', 104:'Pooja'} find name of student whose rollno = 103"
   ]
  },
  {
   "cell_type": "code",
   "execution_count": 40,
   "metadata": {},
   "outputs": [
    {
     "name": "stdin",
     "output_type": "stream",
     "text": [
      "Enter Rollno: 105\n"
     ]
    },
    {
     "name": "stdout",
     "output_type": "stream",
     "text": [
      "Roll no not found!\n"
     ]
    }
   ],
   "source": [
    "dict = {101:'Ajay', 102:'Rahul', 103:'Jay', 104:'Pooja'}\n",
    "rno = int(input('Enter Rollno:'))\n",
    "def getName(rno):\n",
    "    if rno in dict:\n",
    "        print(dict[rno])  #dict.values should be changed to dict[i]\n",
    "    else:\n",
    "        print('Roll no not found!')\n",
    "\n",
    "getName(rno)"
   ]
  },
  {
   "cell_type": "markdown",
   "metadata": {},
   "source": [
    "### 10) Write a function to get the sum of the scores ending with zero.\n",
    "#### Example : scores = [200, 456, 300, 100, 234, 678] \n",
    "#### Ans = 200 + 300 + 100 = 600"
   ]
  },
  {
   "cell_type": "code",
   "execution_count": 60,
   "metadata": {},
   "outputs": [
    {
     "name": "stdout",
     "output_type": "stream",
     "text": [
      "Sum = 1200\n"
     ]
    }
   ],
   "source": [
    "scores = [200, 456, 300, 100, 234, 678 ,600]\n",
    "def sumOfScore(scores):\n",
    "    sum = 0\n",
    "    for i in scores:\n",
    "        if i%10==0:\n",
    "            sum = sum + i\n",
    "    print('Sum =',sum)\n",
    "\n",
    "sumOfScore(scores)"
   ]
  },
  {
   "cell_type": "markdown",
   "metadata": {},
   "source": [
    "### 11) Write a function to invert a given Dictionary.\n",
    "#### hint: keys to values & values to keys\n",
    "#### Before : {'a': 10, 'b':20, 'c':30, 'd':40}\n",
    "#### After : {10:'a', 20:'b', 30:'c', 40:'d'}"
   ]
  },
  {
   "cell_type": "code",
   "execution_count": 80,
   "metadata": {},
   "outputs": [
    {
     "name": "stdout",
     "output_type": "stream",
     "text": [
      "{10: 'a', 20: 'b', 30: 'c', 40: 'd'}\n"
     ]
    }
   ],
   "source": [
    "dict = {'a': 10, 'b':20, 'c':30, 'd':40}\n",
    "def invertDict(dict):\n",
    "    dict1 = {value:key for key,value in dict.items()}\n",
    "    print(dict1)\n",
    "\n",
    "invertDict(dict)"
   ]
  },
  {
   "cell_type": "markdown",
   "metadata": {},
   "source": [
    "### 12) Write a function to check whether the given string is Pangram or not.\n",
    "#### hint: Pangram is a string containing all the characters a-z atlest once.\n",
    "#### \"the quick brown fox jumps over the lazy dog\" is a Pangram string."
   ]
  },
  {
   "cell_type": "code",
   "execution_count": 8,
   "metadata": {},
   "outputs": [
    {
     "data": {
      "text/plain": [
       "True"
      ]
     },
     "execution_count": 8,
     "metadata": {},
     "output_type": "execute_result"
    }
   ],
   "source": [
    "str1=\"the quick brown fox jumps over the lazy dog\"\n",
    "def pangram(str1):\n",
    "    for i in 'qwertyuioplkjhgfdsazxcvbnm':\n",
    "        if i not in str1:\n",
    "            return False\n",
    "    return True\n",
    "    \n",
    "pangram(str1)"
   ]
  },
  {
   "cell_type": "markdown",
   "metadata": {},
   "source": [
    "### 13) Write a function that returns the number of uppercase and lowercase letters in the given string. \n",
    "#### example : Input : s1 = AbcDEfgh ,Ouptput : no_upper = 3, no_lower = 5"
   ]
  },
  {
   "cell_type": "code",
   "execution_count": 101,
   "metadata": {},
   "outputs": [
    {
     "name": "stdout",
     "output_type": "stream",
     "text": [
      "No of Uppercase letter in given string = 4\n",
      "No of Lowercase letter in given string = 5\n"
     ]
    }
   ],
   "source": [
    "s1 = 'AbcDEf@ghI'\n",
    "def noOfUpperAndLower(s1):\n",
    "    count1 = 0\n",
    "    count2 = 0\n",
    "    for i in s1:\n",
    "        if i.isupper():\n",
    "            count1+=1\n",
    "        elif i.islower():\n",
    "            count2+=1\n",
    "    print('No of Uppercase letter in given string =',count1)\n",
    "    print('No of Lowercase letter in given string =',count2)\n",
    "\n",
    "noOfUpperAndLower(s1)"
   ]
  },
  {
   "cell_type": "markdown",
   "metadata": {},
   "source": [
    "### 14) Write a lambda function to get smallest number from the given two numbers."
   ]
  },
  {
   "cell_type": "code",
   "execution_count": 9,
   "metadata": {},
   "outputs": [
    {
     "name": "stdin",
     "output_type": "stream",
     "text": [
      "Enter num1 : 10\n",
      "Enter num2 : 5\n"
     ]
    },
    {
     "name": "stdout",
     "output_type": "stream",
     "text": [
      "5 is smallest.\n"
     ]
    }
   ],
   "source": [
    "a = int(input('Enter num1 :'))\n",
    "b = int(input('Enter num2 :'))\n",
    "small = lambda a,b : a if a<b else b\n",
    "\n",
    "print(small(a,b),'is smallest.')"
   ]
  },
  {
   "cell_type": "markdown",
   "metadata": {},
   "source": [
    "### 15) For the given list of names of students, extract the names having more that 7 characters. Use filter()."
   ]
  },
  {
   "cell_type": "code",
   "execution_count": 15,
   "metadata": {},
   "outputs": [
    {
     "data": {
      "text/plain": [
       "['Riyariya', 'Nandaninandu']"
      ]
     },
     "execution_count": 15,
     "metadata": {},
     "output_type": "execute_result"
    }
   ],
   "source": [
    "l1 = ['Darshi','Shrutii','Riyariya','Nandaninandu','Diya','Mansi']\n",
    "ans = list(filter(lambda x : len(x)>7,l1))\n",
    "ans"
   ]
  },
  {
   "cell_type": "markdown",
   "metadata": {},
   "source": [
    "### 16) For the given list of names of students, convert the first letter of all the names into uppercase. use map()."
   ]
  },
  {
   "cell_type": "code",
   "execution_count": 53,
   "metadata": {},
   "outputs": [
    {
     "data": {
      "text/plain": [
       "['Darshi', 'Shruti', 'Riya', 'Nandu', 'Mansi']"
      ]
     },
     "execution_count": 53,
     "metadata": {},
     "output_type": "execute_result"
    }
   ],
   "source": [
    "l1 = ['darshi','shruti','riya','nandu','mansi']\n",
    "ans = list(map(lambda name : name.capitalize(),l1))\n",
    "ans"
   ]
  },
  {
   "cell_type": "markdown",
   "metadata": {},
   "source": [
    "### 17) Write udfs to call the functions with following types of arguments:\n",
    "1. Positional Arguments\n",
    "2. Keyword Arguments\n",
    "3. Default Arguments\n",
    "4. Variable Legngth Positional(*args) & variable length Keyword Arguments (**kwargs)\n",
    "5. Keyword-Only & Positional Only Arguments"
   ]
  },
  {
   "cell_type": "code",
   "execution_count": 2,
   "metadata": {},
   "outputs": [
    {
     "name": "stdout",
     "output_type": "stream",
     "text": [
      "Addition By Positional Arguments: 8\n",
      "Addition By Keyword Arguments: 8\n",
      "Addition By Default Arguments: 25 20\n",
      "Variable Length Arguments: Sum of args: 6, Kwargs: name=Alice age=25\n",
      "Keyword-Only & Positional-Only Arguments: Positional-Only: 1, Regular: 2, Keyword-Only: 3\n"
     ]
    }
   ],
   "source": [
    "# Positional Args\n",
    "def positional_args(a, b):\n",
    "    return a + b\n",
    "result1 = positional_args(5, 3)\n",
    "print(\"Addition By Positional Arguments:\", result1)\n",
    "\n",
    "#Keyword Args\n",
    "def keyword_args(a, b):\n",
    "    return a + b\n",
    "result2 = keyword_args(a=5, b=3)\n",
    "print(\"Addition By Keyword Arguments:\", result2)\n",
    "\n",
    "#Default Args\n",
    "def default_args(a, b=10):\n",
    "    return a + b\n",
    "result3a = default_args(15)\n",
    "result3b = default_args(15, 5)\n",
    "print(\"Addition By Default Arguments:\", result3a, result3b)\n",
    "\n",
    "#Variable Legngth Positional(args) & variable length Keyword Arguments (*kwargs)\n",
    "def variable_args(*args, **kwargs):\n",
    "    sum_args = sum(args)\n",
    "    concatenated_kwargs = \" \".join(f\"{key}={value}\" for key, value in kwargs.items())\n",
    "    return f\"Sum of args: {sum_args}, Kwargs: {concatenated_kwargs}\"\n",
    "result4 = variable_args(1, 2, 3, name=\"Alice\", age=25)\n",
    "print(\"Variable Length Arguments:\", result4)\n",
    "\n",
    "#Keyword-Only & Positional Only Arguments\n",
    "def mixed_args(a, /, b, *, c):\n",
    "    return f\"Positional-Only: {a}, Regular: {b}, Keyword-Only: {c}\"\n",
    "result5 = mixed_args(1, b=2, c=3)\n",
    "print(\"Keyword-Only & Positional-Only Arguments:\", result5)"
   ]
  },
  {
   "cell_type": "code",
   "execution_count": null,
   "metadata": {},
   "outputs": [],
   "source": []
  }
 ],
 "metadata": {
  "kernelspec": {
   "display_name": "Python 3 (ipykernel)",
   "language": "python",
   "name": "python3"
  },
  "language_info": {
   "codemirror_mode": {
    "name": "ipython",
    "version": 3
   },
   "file_extension": ".py",
   "mimetype": "text/x-python",
   "name": "python",
   "nbconvert_exporter": "python",
   "pygments_lexer": "ipython3",
   "version": "3.12.7"
  }
 },
 "nbformat": 4,
 "nbformat_minor": 4
}
