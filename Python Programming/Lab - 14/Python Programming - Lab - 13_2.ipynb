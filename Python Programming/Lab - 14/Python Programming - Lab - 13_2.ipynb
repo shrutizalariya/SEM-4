{
 "cells": [
  {
   "cell_type": "markdown",
   "metadata": {},
   "source": [
    "<a href='https://www.darshan.ac.in/'> <img src='https://www.darshan.ac.in/Content/media/DU_Logo.svg' width=\"250\" height=\"300\"/></a>\n",
    "<pre>\n",
    "<center><b><h1>Python Programming - 2301CS404</b></center>\n",
    "<center><b><h1>Lab - 13</b></center>  \n",
    "<center><b><h1>Shruti | 23010101311 | 10-03-2025</b></center>   \n",
    "<pre>"
   ]
  },
  {
   "cell_type": "markdown",
   "metadata": {},
   "source": [
    "## Continued.."
   ]
  },
  {
   "cell_type": "markdown",
   "metadata": {},
   "source": [
    "### 10) Calculate area of a ractangle using object as an argument to a method."
   ]
  },
  {
   "cell_type": "code",
   "execution_count": 1,
   "metadata": {},
   "outputs": [
    {
     "name": "stdout",
     "output_type": "stream",
     "text": [
      "Area of the rectangle: 150\n"
     ]
    }
   ],
   "source": [
    "class Rectangle:\n",
    "    def __init__(self, length, width):\n",
    "        self.length = length\n",
    "        self.width = width\n",
    "\n",
    "    def area(self):\n",
    "        return self.length * self.width\n",
    "\n",
    "def calculate_area(rect):\n",
    "    return rect.area()\n",
    "\n",
    "rect1 = Rectangle(10, 15)\n",
    "\n",
    "print(\"Area of the rectangle:\", calculate_area(rect1))"
   ]
  },
  {
   "cell_type": "markdown",
   "metadata": {},
   "source": [
    "### 11) Calculate the area of a square. \n",
    "### Include a Constructor, a method to calculate area named area() and a method named output() that prints the output and is invoked by area()."
   ]
  },
  {
   "cell_type": "code",
   "execution_count": 5,
   "metadata": {},
   "outputs": [
    {
     "name": "stdin",
     "output_type": "stream",
     "text": [
      "Enter n: 15\n"
     ]
    },
    {
     "name": "stdout",
     "output_type": "stream",
     "text": [
      "Area of the square: 225\n"
     ]
    }
   ],
   "source": [
    "class Square:\n",
    "    def __init__(self, side):\n",
    "        self.side = side\n",
    "\n",
    "    def area(self):\n",
    "        a = self.side * self.side\n",
    "        self.output(a)\n",
    "\n",
    "    def output(self, a):\n",
    "        print(f\"Area of the square: {a}\")\n",
    "\n",
    "n = int(input('Enter n:'))\n",
    "sq = Square(n)\n",
    "sq.area()"
   ]
  },
  {
   "cell_type": "markdown",
   "metadata": {},
   "source": [
    "### 12) Calculate the area of a rectangle. \n",
    "### Include a Constructor, a method to calculate area named area() and a method named output() that prints the output and is invoked by area().\n",
    "### Also define a class method that compares the two sides of reactangle. An object is instantiated only if the two sides are different; otherwise a message should be displayed : THIS IS SQUARE."
   ]
  },
  {
   "cell_type": "code",
   "execution_count": 15,
   "metadata": {},
   "outputs": [
    {
     "name": "stdin",
     "output_type": "stream",
     "text": [
      "Enter side1: 12\n",
      "Enter side2: 6\n"
     ]
    },
    {
     "name": "stdout",
     "output_type": "stream",
     "text": [
      "Area of the square:  72\n"
     ]
    },
    {
     "name": "stdin",
     "output_type": "stream",
     "text": [
      "Enter side1: 12\n",
      "Enter side2: 12\n"
     ]
    },
    {
     "name": "stdout",
     "output_type": "stream",
     "text": [
      "THIS IS SQUARE.\n"
     ]
    }
   ],
   "source": [
    "class Rectangle:\n",
    "    def __init__(self, length, width):\n",
    "        if length == width:\n",
    "            print(\"THIS IS SQUARE.\")\n",
    "        else:\n",
    "            self.length = length\n",
    "            self.width = width\n",
    "\n",
    "    def area(self):\n",
    "        return self.output(self.length * self.width)\n",
    "\n",
    "    def output(self, area):\n",
    "        print(\"Area of the square: \",area)\n",
    "\n",
    "    @classmethod\n",
    "    def validate(cls, length, width):\n",
    "        if length == width:\n",
    "            print(\"THIS IS SQUARE.\")\n",
    "            return None\n",
    "        return cls(length, width)\n",
    "\n",
    "side1 = int(input(\"Enter side1:\"))\n",
    "side2 = int(input(\"Enter side2:\"))\n",
    "rect1 = Rectangle.validate(side1, side2) \n",
    "if rect1:\n",
    "    rect1.area()\n",
    "    \n",
    "side1 = int(input(\"Enter side1:\"))\n",
    "side2 = int(input(\"Enter side2:\"))\n",
    "rect2 = Rectangle.validate(side1, side2)\n",
    "if rect2:\n",
    "    rect2.area()"
   ]
  },
  {
   "cell_type": "markdown",
   "metadata": {},
   "source": [
    "### 13) Define a class Square having a private attribute \"side\". \n",
    "### Implement get_side and set_side methods to accees the private attribute from outside of the class."
   ]
  },
  {
   "cell_type": "code",
   "execution_count": 19,
   "metadata": {},
   "outputs": [
    {
     "name": "stdout",
     "output_type": "stream",
     "text": [
      "Initial Side: 50\n",
      "Updated Side: 80\n",
      "Side length must be positive!\n"
     ]
    }
   ],
   "source": [
    "class Square:\n",
    "    def __init__(self, side):\n",
    "        self.__side = side  # Private attribute\n",
    "\n",
    "    def get_side(self):\n",
    "        return self.__side\n",
    "\n",
    "    def set_side(self, newside):\n",
    "        if newside > 0:\n",
    "            self.__side = newside\n",
    "        else:\n",
    "            print(\"Side length must be positive!\")\n",
    "\n",
    "sq = Square(50)\n",
    "\n",
    "print(\"Initial Side:\", sq.get_side())\n",
    "\n",
    "sq.set_side(80)\n",
    "print(\"Updated Side:\", sq.get_side())\n",
    "\n",
    "sq.set_side(-3)  # This will display an error message"
   ]
  },
  {
   "cell_type": "markdown",
   "metadata": {},
   "source": [
    "### 14) Create a class Profit that has a method named getProfit that accepts profit from the user.\n",
    "### Create a class Loss that has a method named getLoss that accepts loss from the user.\n",
    "### Create a class BalanceSheet that inherits from both classes Profit and Loss and calculates the balanace. It has two methods getBalance() and printBalance()."
   ]
  },
  {
   "cell_type": "code",
   "execution_count": 25,
   "metadata": {},
   "outputs": [
    {
     "name": "stdin",
     "output_type": "stream",
     "text": [
      "Enter profit amount:  1500\n",
      "Enter loss amount:  150\n"
     ]
    },
    {
     "name": "stdout",
     "output_type": "stream",
     "text": [
      "Net Balance: 1350.0\n"
     ]
    }
   ],
   "source": [
    "class Profit:\n",
    "    def getProfit(self):\n",
    "        self.profit = float(input(\"Enter profit amount: \"))\n",
    "\n",
    "class Loss:\n",
    "    def getLoss(self):\n",
    "        self.loss = float(input(\"Enter loss amount: \"))\n",
    "\n",
    "class BalanceSheet(Profit, Loss):\n",
    "    def __init__(self):  \n",
    "        self.profit = 0\n",
    "        self.loss = 0\n",
    "        self.balance = 0\n",
    "\n",
    "    def getBalance(self):\n",
    "        self.balance = self.profit - self.loss\n",
    "\n",
    "    def printBalance(self):\n",
    "        print(\"Net Balance:\",self.balance)\n",
    "\n",
    "bs = BalanceSheet()\n",
    "\n",
    "bs.getProfit()\n",
    "bs.getLoss()\n",
    "\n",
    "bs.getBalance()\n",
    "bs.printBalance()"
   ]
  },
  {
   "attachments": {},
   "cell_type": "markdown",
   "metadata": {},
   "source": [
    "### 15) WAP to demonstrate all types of inheritance."
   ]
  },
  {
   "cell_type": "code",
   "execution_count": 27,
   "metadata": {},
   "outputs": [
    {
     "name": "stdout",
     "output_type": "stream",
     "text": [
      "\n",
      "--- Single Inheritance ---\n",
      "Single Inheritance: Parent class\n",
      "\n",
      "--- Multiple Inheritance ---\n",
      "Multiple Inheritance: Feature from Father\n",
      "Multiple Inheritance: Feature from Mother\n",
      "\n",
      "--- Multilevel Inheritance ---\n",
      "Multilevel Inheritance: Feature from Grandparent\n",
      "\n",
      "--- Hierarchical Inheritance ---\n",
      "Hierarchical Inheritance: Base class feature\n",
      "Hierarchical Inheritance: Base class feature\n",
      "\n",
      "--- Hybrid Inheritance ---\n",
      "Hybrid Inheritance: Feature A\n",
      "Hybrid Inheritance: Feature B\n",
      "Hybrid Inheritance: Feature C\n"
     ]
    }
   ],
   "source": [
    "# 1. Single Inheritance\n",
    "class Parent:\n",
    "    def show(self):\n",
    "        print(\"Single Inheritance: Parent class\")\n",
    "\n",
    "class Child(Parent):\n",
    "    pass\n",
    "\n",
    "# 2. Multiple Inheritance\n",
    "class Father:\n",
    "    def fatherFeature(self):\n",
    "        print(\"Multiple Inheritance: Feature from Father\")\n",
    "\n",
    "class Mother:\n",
    "    def motherFeature(self):\n",
    "        print(\"Multiple Inheritance: Feature from Mother\")\n",
    "\n",
    "class Child2(Father, Mother):\n",
    "    pass\n",
    "\n",
    "# 3. Multilevel Inheritance\n",
    "class Grandparent:\n",
    "    def grandFeature(self):\n",
    "        print(\"Multilevel Inheritance: Feature from Grandparent\")\n",
    "\n",
    "class Parent2(Grandparent):\n",
    "    pass\n",
    "\n",
    "class Child3(Parent2):\n",
    "    pass\n",
    "\n",
    "# 4. Hierarchical Inheritance\n",
    "class Base:\n",
    "    def baseFeature(self):\n",
    "        print(\"Hierarchical Inheritance: Base class feature\")\n",
    "\n",
    "class Derived1(Base):\n",
    "    pass\n",
    "\n",
    "class Derived2(Base):\n",
    "    pass\n",
    "\n",
    "# 5. Hybrid Inheritance (Combination of multiple types)\n",
    "class A:\n",
    "    def featureA(self):\n",
    "        print(\"Hybrid Inheritance: Feature A\")\n",
    "\n",
    "class B(A):\n",
    "    def featureB(self):\n",
    "        print(\"Hybrid Inheritance: Feature B\")\n",
    "\n",
    "class C(A):\n",
    "    def featureC(self):\n",
    "        print(\"Hybrid Inheritance: Feature C\")\n",
    "\n",
    "class D(B, C):\n",
    "    pass\n",
    "\n",
    "print(\"\\n--- Single Inheritance ---\")\n",
    "c1 = Child()\n",
    "c1.show()\n",
    "\n",
    "print(\"\\n--- Multiple Inheritance ---\")\n",
    "c2 = Child2()\n",
    "c2.fatherFeature()\n",
    "c2.motherFeature()\n",
    "\n",
    "print(\"\\n--- Multilevel Inheritance ---\")\n",
    "c3 = Child3()\n",
    "c3.grandFeature()\n",
    "\n",
    "print(\"\\n--- Hierarchical Inheritance ---\")\n",
    "d1 = Derived1()\n",
    "d2 = Derived2()\n",
    "d1.baseFeature()\n",
    "d2.baseFeature()\n",
    "\n",
    "print(\"\\n--- Hybrid Inheritance ---\")\n",
    "d = D()\n",
    "d.featureA()\n",
    "d.featureB()\n",
    "d.featureC()"
   ]
  },
  {
   "cell_type": "markdown",
   "metadata": {},
   "source": [
    "### 16) Create a Person class with a constructor that takes two arguments name and age. \n",
    "### Create a child class Employee that inherits from Person and adds a new attribute salary. \n",
    "### Override the __init__ method in Employee to call the parent class's __init__ method using the super() and then initialize the salary attribute."
   ]
  },
  {
   "cell_type": "code",
   "execution_count": 29,
   "metadata": {},
   "outputs": [
    {
     "name": "stdout",
     "output_type": "stream",
     "text": [
      "Name: Shruti \n",
      "Age: 18 \n",
      "Salary: 5500000\n"
     ]
    }
   ],
   "source": [
    "class Person:\n",
    "    def __init__(self, name, age):\n",
    "        self.name = name\n",
    "        self.age = age\n",
    "\n",
    "class Employee(Person):\n",
    "    def __init__(self, name, age, salary):\n",
    "        super().__init__(name, age) \n",
    "        self.salary = salary\n",
    "\n",
    "    def display(self):\n",
    "        print(\"Name:\",self.name, \"\\nAge:\", self.age, \"\\nSalary:\", self.salary)\n",
    "\n",
    "emp = Employee(\"Shruti\", 18, 5500000)\n",
    "emp.display()"
   ]
  },
  {
   "cell_type": "markdown",
   "metadata": {},
   "source": [
    "### 17) Create a Shape class with a draw method that is not implemented. \n",
    "### Create three child classes Rectangle, Circle, and Triangle that implement the draw method with their respective drawing behaviors. \n",
    "### Create a list of Shape objects that includes one instance of each child class, and then iterate through the list and call the draw method on each object."
   ]
  },
  {
   "cell_type": "code",
   "execution_count": 31,
   "metadata": {},
   "outputs": [
    {
     "name": "stdout",
     "output_type": "stream",
     "text": [
      "Drawing a Rectangle\n",
      "Drawing a Circle\n",
      "Drawing a Triangle\n"
     ]
    }
   ],
   "source": [
    "from abc import ABC, abstractmethod #Abstract Base Class(Module)\n",
    "\n",
    "class Shape(ABC): \n",
    "    @abstractmethod\n",
    "    def draw(self):\n",
    "        pass\n",
    "\n",
    "class Rectangle(Shape):\n",
    "    def draw(self):\n",
    "        print(\"Drawing a Rectangle\")\n",
    "\n",
    "class Circle(Shape):\n",
    "    def draw(self):\n",
    "        print(\"Drawing a Circle\")\n",
    "\n",
    "class Triangle(Shape):\n",
    "    def draw(self):\n",
    "        print(\"Drawing a Triangle\")\n",
    "\n",
    "shapes = [Rectangle(), Circle(), Triangle()]\n",
    "\n",
    "for shape in shapes:\n",
    "    shape.draw()"
   ]
  },
  {
   "cell_type": "code",
   "execution_count": null,
   "metadata": {},
   "outputs": [],
   "source": []
  }
 ],
 "metadata": {
  "kernelspec": {
   "display_name": "Python 3 (ipykernel)",
   "language": "python",
   "name": "python3"
  },
  "language_info": {
   "codemirror_mode": {
    "name": "ipython",
    "version": 3
   },
   "file_extension": ".py",
   "mimetype": "text/x-python",
   "name": "python",
   "nbconvert_exporter": "python",
   "pygments_lexer": "ipython3",
   "version": "3.12.7"
  }
 },
 "nbformat": 4,
 "nbformat_minor": 4
}
